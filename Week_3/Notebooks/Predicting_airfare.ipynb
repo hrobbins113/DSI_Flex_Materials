{
 "cells": [
  {
   "cell_type": "markdown",
   "metadata": {},
   "source": [
    "## Predicting Airfare In-Class Project\n",
    "\n",
    "\n",
    "#### Your task:\n",
    "\n",
    "- Build a linear regression model that predicts the 'ItinFare' column (Intinerary Fare per person) and determine which features have the biggest impact on airfare price per person. This can be used as your data dictionary: https://www.transtats.bts.gov/Fields.asp?Table_ID=272\n",
    "        \n",
    "- Use what you've learned! Do some EDA, make new features, create dummies, cross validated, scale, regularize, etc!\n",
    "\n",
    "- Once you've built your model, you'll create a 5 min presentation on how you tackled the data set, how you built your final model and how you've interpreted the predictors.\n",
    "\n",
    "- You'll have 2 hours to do EDA, build your model(s) and put your presentation together. You'll then present your results to the class."
   ]
  },
  {
   "cell_type": "code",
   "execution_count": 1,
   "metadata": {},
   "outputs": [],
   "source": []
  },
  {
   "cell_type": "code",
   "execution_count": 2,
   "metadata": {},
   "outputs": [],
   "source": []
  },
  {
   "cell_type": "code",
   "execution_count": null,
   "metadata": {},
   "outputs": [],
   "source": []
  },
  {
   "cell_type": "code",
   "execution_count": null,
   "metadata": {},
   "outputs": [],
   "source": []
  }
 ],
 "metadata": {
  "kernelspec": {
   "display_name": "Python 3",
   "language": "python",
   "name": "python3"
  },
  "language_info": {
   "codemirror_mode": {
    "name": "ipython",
    "version": 3
   },
   "file_extension": ".py",
   "mimetype": "text/x-python",
   "name": "python",
   "nbconvert_exporter": "python",
   "pygments_lexer": "ipython3",
   "version": "3.6.8"
  }
 },
 "nbformat": 4,
 "nbformat_minor": 2
}
