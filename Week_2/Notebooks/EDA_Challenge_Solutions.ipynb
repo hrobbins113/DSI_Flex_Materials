{
 "cells": [
  {
   "cell_type": "code",
   "execution_count": 116,
   "metadata": {},
   "outputs": [],
   "source": [
    "import pandas as pd\n",
    "import numpy as np\n",
    "import seaborn as sns\n",
    "import matplotlib.pyplot as plt\n"
   ]
  },
  {
   "cell_type": "code",
   "execution_count": 155,
   "metadata": {},
   "outputs": [],
   "source": [
    "df = pd.read_csv('tv-cast.csv')"
   ]
  },
  {
   "cell_type": "code",
   "execution_count": 156,
   "metadata": {},
   "outputs": [
    {
     "data": {
      "text/html": [
       "<div>\n",
       "<style scoped>\n",
       "    .dataframe tbody tr th:only-of-type {\n",
       "        vertical-align: middle;\n",
       "    }\n",
       "\n",
       "    .dataframe tbody tr th {\n",
       "        vertical-align: top;\n",
       "    }\n",
       "\n",
       "    .dataframe thead th {\n",
       "        text-align: right;\n",
       "    }\n",
       "</style>\n",
       "<table border=\"1\" class=\"dataframe\">\n",
       "  <thead>\n",
       "    <tr style=\"text-align: right;\">\n",
       "      <th></th>\n",
       "      <th>Performer</th>\n",
       "      <th>Show</th>\n",
       "      <th>Show Start</th>\n",
       "      <th>Show End</th>\n",
       "      <th>Status?</th>\n",
       "      <th>CharEnd</th>\n",
       "      <th>Years Since</th>\n",
       "      <th>#LEAD</th>\n",
       "      <th>#SUPPORT</th>\n",
       "      <th>#Shows</th>\n",
       "      <th>Score</th>\n",
       "      <th>Score/Y</th>\n",
       "      <th>lead_notes</th>\n",
       "      <th>support_notes</th>\n",
       "      <th>show_notes</th>\n",
       "    </tr>\n",
       "  </thead>\n",
       "  <tbody>\n",
       "    <tr>\n",
       "      <th>0</th>\n",
       "      <td>Steven Hill</td>\n",
       "      <td>Law &amp; Order</td>\n",
       "      <td>1990</td>\n",
       "      <td>2010</td>\n",
       "      <td>END</td>\n",
       "      <td>2000</td>\n",
       "      <td>15</td>\n",
       "      <td>0</td>\n",
       "      <td>0</td>\n",
       "      <td>0</td>\n",
       "      <td>0.00</td>\n",
       "      <td>0</td>\n",
       "      <td>NaN</td>\n",
       "      <td>NaN</td>\n",
       "      <td>NaN</td>\n",
       "    </tr>\n",
       "    <tr>\n",
       "      <th>1</th>\n",
       "      <td>Kelli Williams</td>\n",
       "      <td>The Practice</td>\n",
       "      <td>1997</td>\n",
       "      <td>2014</td>\n",
       "      <td>END</td>\n",
       "      <td>2003</td>\n",
       "      <td>12</td>\n",
       "      <td>0</td>\n",
       "      <td>1</td>\n",
       "      <td>6</td>\n",
       "      <td>6.25</td>\n",
       "      <td>0.520833333</td>\n",
       "      <td>NaN</td>\n",
       "      <td>Any Day Now (2012)</td>\n",
       "      <td>Medical Investigation, Season 1; Lie To Me, Se...</td>\n",
       "    </tr>\n",
       "    <tr>\n",
       "      <th>2</th>\n",
       "      <td>LisaGay Hamilton</td>\n",
       "      <td>The Practice</td>\n",
       "      <td>1997</td>\n",
       "      <td>2014</td>\n",
       "      <td>END</td>\n",
       "      <td>2003</td>\n",
       "      <td>12</td>\n",
       "      <td>2</td>\n",
       "      <td>0</td>\n",
       "      <td>2</td>\n",
       "      <td>4.00</td>\n",
       "      <td>0.333333333</td>\n",
       "      <td>Life of a King, 2014; Go For Sisters, 2013</td>\n",
       "      <td>NaN</td>\n",
       "      <td>Men of a Certain Age, Season 1-2</td>\n",
       "    </tr>\n",
       "    <tr>\n",
       "      <th>3</th>\n",
       "      <td>Lara Flynn Boyle</td>\n",
       "      <td>The Practice</td>\n",
       "      <td>1997</td>\n",
       "      <td>2014</td>\n",
       "      <td>END</td>\n",
       "      <td>2003</td>\n",
       "      <td>12</td>\n",
       "      <td>0</td>\n",
       "      <td>0</td>\n",
       "      <td>0</td>\n",
       "      <td>0.00</td>\n",
       "      <td>0</td>\n",
       "      <td>NaN</td>\n",
       "      <td>NaN</td>\n",
       "      <td>NaN</td>\n",
       "    </tr>\n",
       "    <tr>\n",
       "      <th>4</th>\n",
       "      <td>Dylan McDermott</td>\n",
       "      <td>The Practice</td>\n",
       "      <td>1997</td>\n",
       "      <td>2014</td>\n",
       "      <td>END</td>\n",
       "      <td>2004</td>\n",
       "      <td>11</td>\n",
       "      <td>2</td>\n",
       "      <td>7</td>\n",
       "      <td>6</td>\n",
       "      <td>9.75</td>\n",
       "      <td>0.886363636</td>\n",
       "      <td>Olympus Has Fallen, 2013; Freezer, 2014</td>\n",
       "      <td>The Messengers, 2007; Unbeatable Harold, 2009;...</td>\n",
       "      <td>Big Shots, Season 1; Dark Blue, Season 1-2; Am...</td>\n",
       "    </tr>\n",
       "  </tbody>\n",
       "</table>\n",
       "</div>"
      ],
      "text/plain": [
       "          Performer          Show  Show Start Show End Status?  CharEnd  \\\n",
       "0       Steven Hill   Law & Order        1990     2010     END     2000   \n",
       "1    Kelli Williams  The Practice        1997     2014     END     2003   \n",
       "2  LisaGay Hamilton  The Practice        1997     2014     END     2003   \n",
       "3  Lara Flynn Boyle  The Practice        1997     2014     END     2003   \n",
       "4   Dylan McDermott  The Practice        1997     2014     END     2004   \n",
       "\n",
       "   Years Since  #LEAD  #SUPPORT  #Shows  Score      Score/Y  \\\n",
       "0           15      0         0       0   0.00            0   \n",
       "1           12      0         1       6   6.25  0.520833333   \n",
       "2           12      2         0       2   4.00  0.333333333   \n",
       "3           12      0         0       0   0.00            0   \n",
       "4           11      2         7       6   9.75  0.886363636   \n",
       "\n",
       "                                   lead_notes  \\\n",
       "0                                         NaN   \n",
       "1                                         NaN   \n",
       "2  Life of a King, 2014; Go For Sisters, 2013   \n",
       "3                                         NaN   \n",
       "4     Olympus Has Fallen, 2013; Freezer, 2014   \n",
       "\n",
       "                                       support_notes  \\\n",
       "0                                                NaN   \n",
       "1                                 Any Day Now (2012)   \n",
       "2                                                NaN   \n",
       "3                                                NaN   \n",
       "4  The Messengers, 2007; Unbeatable Harold, 2009;...   \n",
       "\n",
       "                                          show_notes  \n",
       "0                                                NaN  \n",
       "1  Medical Investigation, Season 1; Lie To Me, Se...  \n",
       "2                   Men of a Certain Age, Season 1-2  \n",
       "3                                                NaN  \n",
       "4  Big Shots, Season 1; Dark Blue, Season 1-2; Am...  "
      ]
     },
     "execution_count": 156,
     "metadata": {},
     "output_type": "execute_result"
    }
   ],
   "source": [
    "df.head()"
   ]
  },
  {
   "cell_type": "code",
   "execution_count": 157,
   "metadata": {
    "scrolled": false
   },
   "outputs": [
    {
     "data": {
      "text/plain": [
       "(248, 15)"
      ]
     },
     "execution_count": 157,
     "metadata": {},
     "output_type": "execute_result"
    }
   ],
   "source": [
    "df.shape"
   ]
  },
  {
   "cell_type": "code",
   "execution_count": 158,
   "metadata": {
    "scrolled": true
   },
   "outputs": [
    {
     "data": {
      "text/plain": [
       "Performer          0\n",
       "Show               0\n",
       "Show Start         0\n",
       "Show End           0\n",
       "Status?            0\n",
       "CharEnd            0\n",
       "Years Since        0\n",
       "#LEAD              0\n",
       "#SUPPORT           0\n",
       "#Shows             0\n",
       "Score              0\n",
       "Score/Y            0\n",
       "lead_notes       159\n",
       "support_notes    113\n",
       "show_notes       110\n",
       "dtype: int64"
      ]
     },
     "execution_count": 158,
     "metadata": {},
     "output_type": "execute_result"
    }
   ],
   "source": [
    "df.isnull().sum()"
   ]
  },
  {
   "cell_type": "code",
   "execution_count": 159,
   "metadata": {},
   "outputs": [],
   "source": [
    "df.drop(columns = ['lead_notes', 'support_notes', 'show_notes'], inplace = True)"
   ]
  },
  {
   "cell_type": "code",
   "execution_count": 160,
   "metadata": {
    "scrolled": false
   },
   "outputs": [
    {
     "data": {
      "text/html": [
       "<div>\n",
       "<style scoped>\n",
       "    .dataframe tbody tr th:only-of-type {\n",
       "        vertical-align: middle;\n",
       "    }\n",
       "\n",
       "    .dataframe tbody tr th {\n",
       "        vertical-align: top;\n",
       "    }\n",
       "\n",
       "    .dataframe thead th {\n",
       "        text-align: right;\n",
       "    }\n",
       "</style>\n",
       "<table border=\"1\" class=\"dataframe\">\n",
       "  <thead>\n",
       "    <tr style=\"text-align: right;\">\n",
       "      <th></th>\n",
       "      <th>Performer</th>\n",
       "      <th>Show</th>\n",
       "      <th>Show Start</th>\n",
       "      <th>Show End</th>\n",
       "      <th>Status?</th>\n",
       "      <th>CharEnd</th>\n",
       "      <th>Years Since</th>\n",
       "      <th>#LEAD</th>\n",
       "      <th>#SUPPORT</th>\n",
       "      <th>#Shows</th>\n",
       "      <th>Score</th>\n",
       "      <th>Score/Y</th>\n",
       "    </tr>\n",
       "  </thead>\n",
       "  <tbody>\n",
       "    <tr>\n",
       "      <th>0</th>\n",
       "      <td>Steven Hill</td>\n",
       "      <td>Law &amp; Order</td>\n",
       "      <td>1990</td>\n",
       "      <td>2010</td>\n",
       "      <td>END</td>\n",
       "      <td>2000</td>\n",
       "      <td>15</td>\n",
       "      <td>0</td>\n",
       "      <td>0</td>\n",
       "      <td>0</td>\n",
       "      <td>0.00</td>\n",
       "      <td>0</td>\n",
       "    </tr>\n",
       "    <tr>\n",
       "      <th>1</th>\n",
       "      <td>Kelli Williams</td>\n",
       "      <td>The Practice</td>\n",
       "      <td>1997</td>\n",
       "      <td>2014</td>\n",
       "      <td>END</td>\n",
       "      <td>2003</td>\n",
       "      <td>12</td>\n",
       "      <td>0</td>\n",
       "      <td>1</td>\n",
       "      <td>6</td>\n",
       "      <td>6.25</td>\n",
       "      <td>0.520833333</td>\n",
       "    </tr>\n",
       "    <tr>\n",
       "      <th>2</th>\n",
       "      <td>LisaGay Hamilton</td>\n",
       "      <td>The Practice</td>\n",
       "      <td>1997</td>\n",
       "      <td>2014</td>\n",
       "      <td>END</td>\n",
       "      <td>2003</td>\n",
       "      <td>12</td>\n",
       "      <td>2</td>\n",
       "      <td>0</td>\n",
       "      <td>2</td>\n",
       "      <td>4.00</td>\n",
       "      <td>0.333333333</td>\n",
       "    </tr>\n",
       "    <tr>\n",
       "      <th>3</th>\n",
       "      <td>Lara Flynn Boyle</td>\n",
       "      <td>The Practice</td>\n",
       "      <td>1997</td>\n",
       "      <td>2014</td>\n",
       "      <td>END</td>\n",
       "      <td>2003</td>\n",
       "      <td>12</td>\n",
       "      <td>0</td>\n",
       "      <td>0</td>\n",
       "      <td>0</td>\n",
       "      <td>0.00</td>\n",
       "      <td>0</td>\n",
       "    </tr>\n",
       "    <tr>\n",
       "      <th>4</th>\n",
       "      <td>Dylan McDermott</td>\n",
       "      <td>The Practice</td>\n",
       "      <td>1997</td>\n",
       "      <td>2014</td>\n",
       "      <td>END</td>\n",
       "      <td>2004</td>\n",
       "      <td>11</td>\n",
       "      <td>2</td>\n",
       "      <td>7</td>\n",
       "      <td>6</td>\n",
       "      <td>9.75</td>\n",
       "      <td>0.886363636</td>\n",
       "    </tr>\n",
       "  </tbody>\n",
       "</table>\n",
       "</div>"
      ],
      "text/plain": [
       "          Performer          Show  Show Start Show End Status?  CharEnd  \\\n",
       "0       Steven Hill   Law & Order        1990     2010     END     2000   \n",
       "1    Kelli Williams  The Practice        1997     2014     END     2003   \n",
       "2  LisaGay Hamilton  The Practice        1997     2014     END     2003   \n",
       "3  Lara Flynn Boyle  The Practice        1997     2014     END     2003   \n",
       "4   Dylan McDermott  The Practice        1997     2014     END     2004   \n",
       "\n",
       "   Years Since  #LEAD  #SUPPORT  #Shows  Score      Score/Y  \n",
       "0           15      0         0       0   0.00            0  \n",
       "1           12      0         1       6   6.25  0.520833333  \n",
       "2           12      2         0       2   4.00  0.333333333  \n",
       "3           12      0         0       0   0.00            0  \n",
       "4           11      2         7       6   9.75  0.886363636  "
      ]
     },
     "execution_count": 160,
     "metadata": {},
     "output_type": "execute_result"
    }
   ],
   "source": [
    "df.head()"
   ]
  },
  {
   "cell_type": "code",
   "execution_count": 161,
   "metadata": {
    "scrolled": true
   },
   "outputs": [
    {
     "data": {
      "text/plain": [
       "Index(['Performer', 'Show', 'Show Start', 'Show End', 'Status?', 'CharEnd',\n",
       "       'Years Since', '#LEAD', '#SUPPORT', '#Shows', 'Score', 'Score/Y'],\n",
       "      dtype='object')"
      ]
     },
     "execution_count": 161,
     "metadata": {},
     "output_type": "execute_result"
    }
   ],
   "source": [
    "df.columns"
   ]
  },
  {
   "cell_type": "markdown",
   "metadata": {},
   "source": [
    "#### Let's change these column names"
   ]
  },
  {
   "cell_type": "code",
   "execution_count": 162,
   "metadata": {},
   "outputs": [],
   "source": [
    "df.columns = df.columns.str.lower().str.replace('/', '_').str.replace(' ', '_').str.replace('#', '').str.replace('?', '')\n"
   ]
  },
  {
   "cell_type": "code",
   "execution_count": 163,
   "metadata": {
    "scrolled": true
   },
   "outputs": [
    {
     "data": {
      "text/plain": [
       "Index(['performer', 'show', 'show_start', 'show_end', 'status', 'charend',\n",
       "       'years_since', 'lead', 'support', 'shows', 'score', 'score_y'],\n",
       "      dtype='object')"
      ]
     },
     "execution_count": 163,
     "metadata": {},
     "output_type": "execute_result"
    }
   ],
   "source": [
    "df.columns"
   ]
  },
  {
   "cell_type": "markdown",
   "metadata": {},
   "source": [
    "#### Let's fix the status column"
   ]
  },
  {
   "cell_type": "code",
   "execution_count": 164,
   "metadata": {
    "scrolled": true
   },
   "outputs": [
    {
     "data": {
      "text/plain": [
       "END     202\n",
       "LEFT     29\n",
       "End      17\n",
       "Name: status, dtype: int64"
      ]
     },
     "execution_count": 164,
     "metadata": {},
     "output_type": "execute_result"
    }
   ],
   "source": [
    "df['status'].value_counts()"
   ]
  },
  {
   "cell_type": "code",
   "execution_count": 165,
   "metadata": {},
   "outputs": [],
   "source": [
    "df['status'] = df['status'].map(lambda x: \"END\" if x == \"End\" else x)"
   ]
  },
  {
   "cell_type": "markdown",
   "metadata": {},
   "source": [
    "#### Let's change the 'Status' category using a lambda function, so that we change the END class to a 0 and the LEFT class to a 1 "
   ]
  },
  {
   "cell_type": "code",
   "execution_count": 166,
   "metadata": {
    "scrolled": true
   },
   "outputs": [],
   "source": [
    "df['status'] = df['status'].map(lambda x: 1 if x == 'LEFT' else 0)"
   ]
  },
  {
   "cell_type": "code",
   "execution_count": 167,
   "metadata": {},
   "outputs": [
    {
     "data": {
      "text/plain": [
       "dtype('int64')"
      ]
     },
     "execution_count": 167,
     "metadata": {},
     "output_type": "execute_result"
    }
   ],
   "source": [
    "df['status'].dtypes"
   ]
  },
  {
   "cell_type": "code",
   "execution_count": 168,
   "metadata": {
    "scrolled": false
   },
   "outputs": [
    {
     "data": {
      "text/plain": [
       "<matplotlib.axes._subplots.AxesSubplot at 0x1352bceb8>"
      ]
     },
     "execution_count": 168,
     "metadata": {},
     "output_type": "execute_result"
    },
    {
     "data": {
      "image/png": "[encoded data removed]",
      "text/plain": [
       "<Figure size 432x288 with 1 Axes>"
      ]
     },
     "metadata": {
      "needs_background": "light"
     },
     "output_type": "display_data"
    }
   ],
   "source": [
    "import seaborn as sns\n",
    "sns.countplot(df['status'],label=\"Count\")"
   ]
  },
  {
   "cell_type": "code",
   "execution_count": 169,
   "metadata": {
    "scrolled": false
   },
   "outputs": [
    {
     "data": {
      "text/html": [
       "<div>\n",
       "<style scoped>\n",
       "    .dataframe tbody tr th:only-of-type {\n",
       "        vertical-align: middle;\n",
       "    }\n",
       "\n",
       "    .dataframe tbody tr th {\n",
       "        vertical-align: top;\n",
       "    }\n",
       "\n",
       "    .dataframe thead th {\n",
       "        text-align: right;\n",
       "    }\n",
       "</style>\n",
       "<table border=\"1\" class=\"dataframe\">\n",
       "  <thead>\n",
       "    <tr style=\"text-align: right;\">\n",
       "      <th></th>\n",
       "      <th>performer</th>\n",
       "      <th>show</th>\n",
       "      <th>show_start</th>\n",
       "      <th>show_end</th>\n",
       "      <th>status</th>\n",
       "      <th>charend</th>\n",
       "      <th>years_since</th>\n",
       "      <th>lead</th>\n",
       "      <th>support</th>\n",
       "      <th>shows</th>\n",
       "      <th>score</th>\n",
       "      <th>score_y</th>\n",
       "    </tr>\n",
       "  </thead>\n",
       "  <tbody>\n",
       "    <tr>\n",
       "      <th>0</th>\n",
       "      <td>Steven Hill</td>\n",
       "      <td>Law &amp; Order</td>\n",
       "      <td>1990</td>\n",
       "      <td>2010</td>\n",
       "      <td>0</td>\n",
       "      <td>2000</td>\n",
       "      <td>15</td>\n",
       "      <td>0</td>\n",
       "      <td>0</td>\n",
       "      <td>0</td>\n",
       "      <td>0.00</td>\n",
       "      <td>0</td>\n",
       "    </tr>\n",
       "    <tr>\n",
       "      <th>1</th>\n",
       "      <td>Kelli Williams</td>\n",
       "      <td>The Practice</td>\n",
       "      <td>1997</td>\n",
       "      <td>2014</td>\n",
       "      <td>0</td>\n",
       "      <td>2003</td>\n",
       "      <td>12</td>\n",
       "      <td>0</td>\n",
       "      <td>1</td>\n",
       "      <td>6</td>\n",
       "      <td>6.25</td>\n",
       "      <td>0.520833333</td>\n",
       "    </tr>\n",
       "    <tr>\n",
       "      <th>2</th>\n",
       "      <td>LisaGay Hamilton</td>\n",
       "      <td>The Practice</td>\n",
       "      <td>1997</td>\n",
       "      <td>2014</td>\n",
       "      <td>0</td>\n",
       "      <td>2003</td>\n",
       "      <td>12</td>\n",
       "      <td>2</td>\n",
       "      <td>0</td>\n",
       "      <td>2</td>\n",
       "      <td>4.00</td>\n",
       "      <td>0.333333333</td>\n",
       "    </tr>\n",
       "    <tr>\n",
       "      <th>3</th>\n",
       "      <td>Lara Flynn Boyle</td>\n",
       "      <td>The Practice</td>\n",
       "      <td>1997</td>\n",
       "      <td>2014</td>\n",
       "      <td>0</td>\n",
       "      <td>2003</td>\n",
       "      <td>12</td>\n",
       "      <td>0</td>\n",
       "      <td>0</td>\n",
       "      <td>0</td>\n",
       "      <td>0.00</td>\n",
       "      <td>0</td>\n",
       "    </tr>\n",
       "    <tr>\n",
       "      <th>4</th>\n",
       "      <td>Dylan McDermott</td>\n",
       "      <td>The Practice</td>\n",
       "      <td>1997</td>\n",
       "      <td>2014</td>\n",
       "      <td>0</td>\n",
       "      <td>2004</td>\n",
       "      <td>11</td>\n",
       "      <td>2</td>\n",
       "      <td>7</td>\n",
       "      <td>6</td>\n",
       "      <td>9.75</td>\n",
       "      <td>0.886363636</td>\n",
       "    </tr>\n",
       "  </tbody>\n",
       "</table>\n",
       "</div>"
      ],
      "text/plain": [
       "          performer          show  show_start show_end  status  charend  \\\n",
       "0       Steven Hill   Law & Order        1990     2010       0     2000   \n",
       "1    Kelli Williams  The Practice        1997     2014       0     2003   \n",
       "2  LisaGay Hamilton  The Practice        1997     2014       0     2003   \n",
       "3  Lara Flynn Boyle  The Practice        1997     2014       0     2003   \n",
       "4   Dylan McDermott  The Practice        1997     2014       0     2004   \n",
       "\n",
       "   years_since  lead  support  shows  score      score_y  \n",
       "0           15     0        0      0   0.00            0  \n",
       "1           12     0        1      6   6.25  0.520833333  \n",
       "2           12     2        0      2   4.00  0.333333333  \n",
       "3           12     0        0      0   0.00            0  \n",
       "4           11     2        7      6   9.75  0.886363636  "
      ]
     },
     "execution_count": 169,
     "metadata": {},
     "output_type": "execute_result"
    }
   ],
   "source": [
    "df.head()"
   ]
  },
  {
   "cell_type": "code",
   "execution_count": 177,
   "metadata": {
    "scrolled": true
   },
   "outputs": [
    {
     "data": {
      "text/plain": [
       "Deadwood                           24\n",
       "Boardwalk Empire                   19\n",
       "Big Love                           17\n",
       "Friday Night Lights                16\n",
       "True Blood                         15\n",
       "The Sopranos                       13\n",
       "Lost                               13\n",
       "True Detective                     12\n",
       "Heroes                             12\n",
       "The West Wing                      11\n",
       "ER                                 10\n",
       "Dexter                              9\n",
       "Joan of Arcadia                     9\n",
       "House                               8\n",
       "Six Feet Under                      8\n",
       "Breaking Bad                        8\n",
       "The Practice                        8\n",
       "Boston Legal                        6\n",
       "Homeland                            5\n",
       "Game of Thrones                     5\n",
       "Damages                             4\n",
       "Law & Order                         4\n",
       "24                                  3\n",
       "Downton Abbey                       2\n",
       "CSI: Crime Scene Investigations     2\n",
       "Grey's Anatomy                      2\n",
       "True Detective -29                  1\n",
       "True Detective -10                  1\n",
       "House of Cards                      1\n",
       "Name: show, dtype: int64"
      ]
     },
     "execution_count": 177,
     "metadata": {},
     "output_type": "execute_result"
    }
   ],
   "source": [
    "df['show'].value_counts()"
   ]
  },
  {
   "cell_type": "code",
   "execution_count": null,
   "metadata": {},
   "outputs": [],
   "source": []
  },
  {
   "cell_type": "markdown",
   "metadata": {},
   "source": [
    "#### Let's review how to make dummy variables for the 'show' column and review how to Concat, Join and Merge!"
   ]
  },
  {
   "cell_type": "code",
   "execution_count": 172,
   "metadata": {},
   "outputs": [],
   "source": [
    "shows = pd.get_dummies(df['show'])"
   ]
  },
  {
   "cell_type": "code",
   "execution_count": 175,
   "metadata": {
    "scrolled": true
   },
   "outputs": [
    {
     "data": {
      "text/html": [
       "<div>\n",
       "<style scoped>\n",
       "    .dataframe tbody tr th:only-of-type {\n",
       "        vertical-align: middle;\n",
       "    }\n",
       "\n",
       "    .dataframe tbody tr th {\n",
       "        vertical-align: top;\n",
       "    }\n",
       "\n",
       "    .dataframe thead th {\n",
       "        text-align: right;\n",
       "    }\n",
       "</style>\n",
       "<table border=\"1\" class=\"dataframe\">\n",
       "  <thead>\n",
       "    <tr style=\"text-align: right;\">\n",
       "      <th></th>\n",
       "      <th>24</th>\n",
       "      <th>Big Love</th>\n",
       "      <th>Boardwalk Empire</th>\n",
       "      <th>Boston Legal</th>\n",
       "      <th>Breaking Bad</th>\n",
       "      <th>CSI: Crime Scene Investigations</th>\n",
       "      <th>Damages</th>\n",
       "      <th>Deadwood</th>\n",
       "      <th>Dexter</th>\n",
       "      <th>Downton Abbey</th>\n",
       "      <th>...</th>\n",
       "      <th>Law &amp; Order</th>\n",
       "      <th>Lost</th>\n",
       "      <th>Six Feet Under</th>\n",
       "      <th>The Practice</th>\n",
       "      <th>The Sopranos</th>\n",
       "      <th>The West Wing</th>\n",
       "      <th>True Blood</th>\n",
       "      <th>True Detective</th>\n",
       "      <th>True Detective -10</th>\n",
       "      <th>True Detective -29</th>\n",
       "    </tr>\n",
       "  </thead>\n",
       "  <tbody>\n",
       "    <tr>\n",
       "      <th>0</th>\n",
       "      <td>0</td>\n",
       "      <td>0</td>\n",
       "      <td>0</td>\n",
       "      <td>0</td>\n",
       "      <td>0</td>\n",
       "      <td>0</td>\n",
       "      <td>0</td>\n",
       "      <td>0</td>\n",
       "      <td>0</td>\n",
       "      <td>0</td>\n",
       "      <td>...</td>\n",
       "      <td>1</td>\n",
       "      <td>0</td>\n",
       "      <td>0</td>\n",
       "      <td>0</td>\n",
       "      <td>0</td>\n",
       "      <td>0</td>\n",
       "      <td>0</td>\n",
       "      <td>0</td>\n",
       "      <td>0</td>\n",
       "      <td>0</td>\n",
       "    </tr>\n",
       "    <tr>\n",
       "      <th>1</th>\n",
       "      <td>0</td>\n",
       "      <td>0</td>\n",
       "      <td>0</td>\n",
       "      <td>0</td>\n",
       "      <td>0</td>\n",
       "      <td>0</td>\n",
       "      <td>0</td>\n",
       "      <td>0</td>\n",
       "      <td>0</td>\n",
       "      <td>0</td>\n",
       "      <td>...</td>\n",
       "      <td>0</td>\n",
       "      <td>0</td>\n",
       "      <td>0</td>\n",
       "      <td>1</td>\n",
       "      <td>0</td>\n",
       "      <td>0</td>\n",
       "      <td>0</td>\n",
       "      <td>0</td>\n",
       "      <td>0</td>\n",
       "      <td>0</td>\n",
       "    </tr>\n",
       "    <tr>\n",
       "      <th>2</th>\n",
       "      <td>0</td>\n",
       "      <td>0</td>\n",
       "      <td>0</td>\n",
       "      <td>0</td>\n",
       "      <td>0</td>\n",
       "      <td>0</td>\n",
       "      <td>0</td>\n",
       "      <td>0</td>\n",
       "      <td>0</td>\n",
       "      <td>0</td>\n",
       "      <td>...</td>\n",
       "      <td>0</td>\n",
       "      <td>0</td>\n",
       "      <td>0</td>\n",
       "      <td>1</td>\n",
       "      <td>0</td>\n",
       "      <td>0</td>\n",
       "      <td>0</td>\n",
       "      <td>0</td>\n",
       "      <td>0</td>\n",
       "      <td>0</td>\n",
       "    </tr>\n",
       "    <tr>\n",
       "      <th>3</th>\n",
       "      <td>0</td>\n",
       "      <td>0</td>\n",
       "      <td>0</td>\n",
       "      <td>0</td>\n",
       "      <td>0</td>\n",
       "      <td>0</td>\n",
       "      <td>0</td>\n",
       "      <td>0</td>\n",
       "      <td>0</td>\n",
       "      <td>0</td>\n",
       "      <td>...</td>\n",
       "      <td>0</td>\n",
       "      <td>0</td>\n",
       "      <td>0</td>\n",
       "      <td>1</td>\n",
       "      <td>0</td>\n",
       "      <td>0</td>\n",
       "      <td>0</td>\n",
       "      <td>0</td>\n",
       "      <td>0</td>\n",
       "      <td>0</td>\n",
       "    </tr>\n",
       "    <tr>\n",
       "      <th>4</th>\n",
       "      <td>0</td>\n",
       "      <td>0</td>\n",
       "      <td>0</td>\n",
       "      <td>0</td>\n",
       "      <td>0</td>\n",
       "      <td>0</td>\n",
       "      <td>0</td>\n",
       "      <td>0</td>\n",
       "      <td>0</td>\n",
       "      <td>0</td>\n",
       "      <td>...</td>\n",
       "      <td>0</td>\n",
       "      <td>0</td>\n",
       "      <td>0</td>\n",
       "      <td>1</td>\n",
       "      <td>0</td>\n",
       "      <td>0</td>\n",
       "      <td>0</td>\n",
       "      <td>0</td>\n",
       "      <td>0</td>\n",
       "      <td>0</td>\n",
       "    </tr>\n",
       "  </tbody>\n",
       "</table>\n",
       "<p>5 rows × 29 columns</p>\n",
       "</div>"
      ],
      "text/plain": [
       "   24  Big Love  Boardwalk Empire  Boston Legal  Breaking Bad  \\\n",
       "0   0         0                 0             0             0   \n",
       "1   0         0                 0             0             0   \n",
       "2   0         0                 0             0             0   \n",
       "3   0         0                 0             0             0   \n",
       "4   0         0                 0             0             0   \n",
       "\n",
       "   CSI: Crime Scene Investigations  Damages  Deadwood  Dexter  Downton Abbey  \\\n",
       "0                                0        0         0       0              0   \n",
       "1                                0        0         0       0              0   \n",
       "2                                0        0         0       0              0   \n",
       "3                                0        0         0       0              0   \n",
       "4                                0        0         0       0              0   \n",
       "\n",
       "   ...  Law & Order  Lost  Six Feet Under  The Practice  The Sopranos  \\\n",
       "0  ...            1     0               0             0             0   \n",
       "1  ...            0     0               0             1             0   \n",
       "2  ...            0     0               0             1             0   \n",
       "3  ...            0     0               0             1             0   \n",
       "4  ...            0     0               0             1             0   \n",
       "\n",
       "   The West Wing  True Blood  True Detective  True Detective -10  \\\n",
       "0              0           0               0                   0   \n",
       "1              0           0               0                   0   \n",
       "2              0           0               0                   0   \n",
       "3              0           0               0                   0   \n",
       "4              0           0               0                   0   \n",
       "\n",
       "   True Detective -29  \n",
       "0                   0  \n",
       "1                   0  \n",
       "2                   0  \n",
       "3                   0  \n",
       "4                   0  \n",
       "\n",
       "[5 rows x 29 columns]"
      ]
     },
     "execution_count": 175,
     "metadata": {},
     "output_type": "execute_result"
    }
   ],
   "source": [
    "shows.head()  #so now this is it's own dataframe"
   ]
  },
  {
   "cell_type": "markdown",
   "metadata": {},
   "source": [
    "#### Join/Merge/Concat"
   ]
  },
  {
   "cell_type": "markdown",
   "metadata": {},
   "source": [
    "##### Join columns with other DataFrame either on index or on a key column. - here we're going to join on index"
   ]
  },
  {
   "cell_type": "code",
   "execution_count": 176,
   "metadata": {},
   "outputs": [
    {
     "data": {
      "text/html": [
       "<div>\n",
       "<style scoped>\n",
       "    .dataframe tbody tr th:only-of-type {\n",
       "        vertical-align: middle;\n",
       "    }\n",
       "\n",
       "    .dataframe tbody tr th {\n",
       "        vertical-align: top;\n",
       "    }\n",
       "\n",
       "    .dataframe thead th {\n",
       "        text-align: right;\n",
       "    }\n",
       "</style>\n",
       "<table border=\"1\" class=\"dataframe\">\n",
       "  <thead>\n",
       "    <tr style=\"text-align: right;\">\n",
       "      <th></th>\n",
       "      <th>performer</th>\n",
       "      <th>show</th>\n",
       "      <th>show_start</th>\n",
       "      <th>show_end</th>\n",
       "      <th>status</th>\n",
       "      <th>charend</th>\n",
       "      <th>years_since</th>\n",
       "      <th>lead</th>\n",
       "      <th>support</th>\n",
       "      <th>shows</th>\n",
       "      <th>...</th>\n",
       "      <th>Law &amp; Order</th>\n",
       "      <th>Lost</th>\n",
       "      <th>Six Feet Under</th>\n",
       "      <th>The Practice</th>\n",
       "      <th>The Sopranos</th>\n",
       "      <th>The West Wing</th>\n",
       "      <th>True Blood</th>\n",
       "      <th>True Detective</th>\n",
       "      <th>True Detective -10</th>\n",
       "      <th>True Detective -29</th>\n",
       "    </tr>\n",
       "  </thead>\n",
       "  <tbody>\n",
       "    <tr>\n",
       "      <th>0</th>\n",
       "      <td>Steven Hill</td>\n",
       "      <td>Law &amp; Order</td>\n",
       "      <td>1990</td>\n",
       "      <td>2010</td>\n",
       "      <td>0</td>\n",
       "      <td>2000</td>\n",
       "      <td>15</td>\n",
       "      <td>0</td>\n",
       "      <td>0</td>\n",
       "      <td>0</td>\n",
       "      <td>...</td>\n",
       "      <td>1</td>\n",
       "      <td>0</td>\n",
       "      <td>0</td>\n",
       "      <td>0</td>\n",
       "      <td>0</td>\n",
       "      <td>0</td>\n",
       "      <td>0</td>\n",
       "      <td>0</td>\n",
       "      <td>0</td>\n",
       "      <td>0</td>\n",
       "    </tr>\n",
       "    <tr>\n",
       "      <th>1</th>\n",
       "      <td>Kelli Williams</td>\n",
       "      <td>The Practice</td>\n",
       "      <td>1997</td>\n",
       "      <td>2014</td>\n",
       "      <td>0</td>\n",
       "      <td>2003</td>\n",
       "      <td>12</td>\n",
       "      <td>0</td>\n",
       "      <td>1</td>\n",
       "      <td>6</td>\n",
       "      <td>...</td>\n",
       "      <td>0</td>\n",
       "      <td>0</td>\n",
       "      <td>0</td>\n",
       "      <td>1</td>\n",
       "      <td>0</td>\n",
       "      <td>0</td>\n",
       "      <td>0</td>\n",
       "      <td>0</td>\n",
       "      <td>0</td>\n",
       "      <td>0</td>\n",
       "    </tr>\n",
       "    <tr>\n",
       "      <th>2</th>\n",
       "      <td>LisaGay Hamilton</td>\n",
       "      <td>The Practice</td>\n",
       "      <td>1997</td>\n",
       "      <td>2014</td>\n",
       "      <td>0</td>\n",
       "      <td>2003</td>\n",
       "      <td>12</td>\n",
       "      <td>2</td>\n",
       "      <td>0</td>\n",
       "      <td>2</td>\n",
       "      <td>...</td>\n",
       "      <td>0</td>\n",
       "      <td>0</td>\n",
       "      <td>0</td>\n",
       "      <td>1</td>\n",
       "      <td>0</td>\n",
       "      <td>0</td>\n",
       "      <td>0</td>\n",
       "      <td>0</td>\n",
       "      <td>0</td>\n",
       "      <td>0</td>\n",
       "    </tr>\n",
       "    <tr>\n",
       "      <th>3</th>\n",
       "      <td>Lara Flynn Boyle</td>\n",
       "      <td>The Practice</td>\n",
       "      <td>1997</td>\n",
       "      <td>2014</td>\n",
       "      <td>0</td>\n",
       "      <td>2003</td>\n",
       "      <td>12</td>\n",
       "      <td>0</td>\n",
       "      <td>0</td>\n",
       "      <td>0</td>\n",
       "      <td>...</td>\n",
       "      <td>0</td>\n",
       "      <td>0</td>\n",
       "      <td>0</td>\n",
       "      <td>1</td>\n",
       "      <td>0</td>\n",
       "      <td>0</td>\n",
       "      <td>0</td>\n",
       "      <td>0</td>\n",
       "      <td>0</td>\n",
       "      <td>0</td>\n",
       "    </tr>\n",
       "    <tr>\n",
       "      <th>4</th>\n",
       "      <td>Dylan McDermott</td>\n",
       "      <td>The Practice</td>\n",
       "      <td>1997</td>\n",
       "      <td>2014</td>\n",
       "      <td>0</td>\n",
       "      <td>2004</td>\n",
       "      <td>11</td>\n",
       "      <td>2</td>\n",
       "      <td>7</td>\n",
       "      <td>6</td>\n",
       "      <td>...</td>\n",
       "      <td>0</td>\n",
       "      <td>0</td>\n",
       "      <td>0</td>\n",
       "      <td>1</td>\n",
       "      <td>0</td>\n",
       "      <td>0</td>\n",
       "      <td>0</td>\n",
       "      <td>0</td>\n",
       "      <td>0</td>\n",
       "      <td>0</td>\n",
       "    </tr>\n",
       "  </tbody>\n",
       "</table>\n",
       "<p>5 rows × 41 columns</p>\n",
       "</div>"
      ],
      "text/plain": [
       "          performer          show  show_start show_end  status  charend  \\\n",
       "0       Steven Hill   Law & Order        1990     2010       0     2000   \n",
       "1    Kelli Williams  The Practice        1997     2014       0     2003   \n",
       "2  LisaGay Hamilton  The Practice        1997     2014       0     2003   \n",
       "3  Lara Flynn Boyle  The Practice        1997     2014       0     2003   \n",
       "4   Dylan McDermott  The Practice        1997     2014       0     2004   \n",
       "\n",
       "   years_since  lead  support  shows  ...  Law & Order Lost  Six Feet Under  \\\n",
       "0           15     0        0      0  ...            1    0               0   \n",
       "1           12     0        1      6  ...            0    0               0   \n",
       "2           12     2        0      2  ...            0    0               0   \n",
       "3           12     0        0      0  ...            0    0               0   \n",
       "4           11     2        7      6  ...            0    0               0   \n",
       "\n",
       "   The Practice  The Sopranos  The West Wing  True Blood  True Detective  \\\n",
       "0             0             0              0           0               0   \n",
       "1             1             0              0           0               0   \n",
       "2             1             0              0           0               0   \n",
       "3             1             0              0           0               0   \n",
       "4             1             0              0           0               0   \n",
       "\n",
       "   True Detective -10  True Detective -29  \n",
       "0                   0                   0  \n",
       "1                   0                   0  \n",
       "2                   0                   0  \n",
       "3                   0                   0  \n",
       "4                   0                   0  \n",
       "\n",
       "[5 rows x 41 columns]"
      ]
     },
     "execution_count": 176,
     "metadata": {},
     "output_type": "execute_result"
    }
   ],
   "source": [
    "joined=df.join(shows)\n",
    "joined.head()"
   ]
  },
  {
   "cell_type": "code",
   "execution_count": 185,
   "metadata": {
    "scrolled": true
   },
   "outputs": [
    {
     "data": {
      "text/plain": [
       "(248, 41)"
      ]
     },
     "execution_count": 185,
     "metadata": {},
     "output_type": "execute_result"
    }
   ],
   "source": [
    "joined.shape"
   ]
  },
  {
   "cell_type": "markdown",
   "metadata": {},
   "source": [
    "#### Concat - We've seen this before! "
   ]
  },
  {
   "cell_type": "code",
   "execution_count": null,
   "metadata": {},
   "outputs": [],
   "source": [
    "# https://pandas.pydata.org/pandas-docs/stable/reference/api/pandas.DataFrame.join.html"
   ]
  },
  {
   "cell_type": "code",
   "execution_count": 186,
   "metadata": {},
   "outputs": [],
   "source": [
    "cats = pd.concat([df, shows], axis =1)   #have to specify axis!"
   ]
  },
  {
   "cell_type": "code",
   "execution_count": 187,
   "metadata": {
    "scrolled": true
   },
   "outputs": [
    {
     "data": {
      "text/plain": [
       "(248, 41)"
      ]
     },
     "execution_count": 187,
     "metadata": {},
     "output_type": "execute_result"
    }
   ],
   "source": [
    "cats.shape"
   ]
  },
  {
   "cell_type": "code",
   "execution_count": 194,
   "metadata": {},
   "outputs": [
    {
     "data": {
      "text/html": [
       "<div>\n",
       "<style scoped>\n",
       "    .dataframe tbody tr th:only-of-type {\n",
       "        vertical-align: middle;\n",
       "    }\n",
       "\n",
       "    .dataframe tbody tr th {\n",
       "        vertical-align: top;\n",
       "    }\n",
       "\n",
       "    .dataframe thead th {\n",
       "        text-align: right;\n",
       "    }\n",
       "</style>\n",
       "<table border=\"1\" class=\"dataframe\">\n",
       "  <thead>\n",
       "    <tr style=\"text-align: right;\">\n",
       "      <th></th>\n",
       "      <th>performer</th>\n",
       "      <th>show</th>\n",
       "      <th>show_start</th>\n",
       "      <th>show_end</th>\n",
       "      <th>status</th>\n",
       "      <th>charend</th>\n",
       "      <th>years_since</th>\n",
       "      <th>lead</th>\n",
       "      <th>support</th>\n",
       "      <th>shows</th>\n",
       "      <th>...</th>\n",
       "      <th>Law &amp; Order</th>\n",
       "      <th>Lost</th>\n",
       "      <th>Six Feet Under</th>\n",
       "      <th>The Practice</th>\n",
       "      <th>The Sopranos</th>\n",
       "      <th>The West Wing</th>\n",
       "      <th>True Blood</th>\n",
       "      <th>True Detective</th>\n",
       "      <th>True Detective -10</th>\n",
       "      <th>True Detective -29</th>\n",
       "    </tr>\n",
       "  </thead>\n",
       "  <tbody>\n",
       "    <tr>\n",
       "      <th>0</th>\n",
       "      <td>Steven Hill</td>\n",
       "      <td>Law &amp; Order</td>\n",
       "      <td>1990</td>\n",
       "      <td>2010</td>\n",
       "      <td>0</td>\n",
       "      <td>2000</td>\n",
       "      <td>15</td>\n",
       "      <td>0</td>\n",
       "      <td>0</td>\n",
       "      <td>0</td>\n",
       "      <td>...</td>\n",
       "      <td>1</td>\n",
       "      <td>0</td>\n",
       "      <td>0</td>\n",
       "      <td>0</td>\n",
       "      <td>0</td>\n",
       "      <td>0</td>\n",
       "      <td>0</td>\n",
       "      <td>0</td>\n",
       "      <td>0</td>\n",
       "      <td>0</td>\n",
       "    </tr>\n",
       "    <tr>\n",
       "      <th>1</th>\n",
       "      <td>Kelli Williams</td>\n",
       "      <td>The Practice</td>\n",
       "      <td>1997</td>\n",
       "      <td>2014</td>\n",
       "      <td>0</td>\n",
       "      <td>2003</td>\n",
       "      <td>12</td>\n",
       "      <td>0</td>\n",
       "      <td>1</td>\n",
       "      <td>6</td>\n",
       "      <td>...</td>\n",
       "      <td>0</td>\n",
       "      <td>0</td>\n",
       "      <td>0</td>\n",
       "      <td>1</td>\n",
       "      <td>0</td>\n",
       "      <td>0</td>\n",
       "      <td>0</td>\n",
       "      <td>0</td>\n",
       "      <td>0</td>\n",
       "      <td>0</td>\n",
       "    </tr>\n",
       "    <tr>\n",
       "      <th>2</th>\n",
       "      <td>LisaGay Hamilton</td>\n",
       "      <td>The Practice</td>\n",
       "      <td>1997</td>\n",
       "      <td>2014</td>\n",
       "      <td>0</td>\n",
       "      <td>2003</td>\n",
       "      <td>12</td>\n",
       "      <td>2</td>\n",
       "      <td>0</td>\n",
       "      <td>2</td>\n",
       "      <td>...</td>\n",
       "      <td>0</td>\n",
       "      <td>0</td>\n",
       "      <td>0</td>\n",
       "      <td>1</td>\n",
       "      <td>0</td>\n",
       "      <td>0</td>\n",
       "      <td>0</td>\n",
       "      <td>0</td>\n",
       "      <td>0</td>\n",
       "      <td>0</td>\n",
       "    </tr>\n",
       "    <tr>\n",
       "      <th>3</th>\n",
       "      <td>Lara Flynn Boyle</td>\n",
       "      <td>The Practice</td>\n",
       "      <td>1997</td>\n",
       "      <td>2014</td>\n",
       "      <td>0</td>\n",
       "      <td>2003</td>\n",
       "      <td>12</td>\n",
       "      <td>0</td>\n",
       "      <td>0</td>\n",
       "      <td>0</td>\n",
       "      <td>...</td>\n",
       "      <td>0</td>\n",
       "      <td>0</td>\n",
       "      <td>0</td>\n",
       "      <td>1</td>\n",
       "      <td>0</td>\n",
       "      <td>0</td>\n",
       "      <td>0</td>\n",
       "      <td>0</td>\n",
       "      <td>0</td>\n",
       "      <td>0</td>\n",
       "    </tr>\n",
       "    <tr>\n",
       "      <th>4</th>\n",
       "      <td>Dylan McDermott</td>\n",
       "      <td>The Practice</td>\n",
       "      <td>1997</td>\n",
       "      <td>2014</td>\n",
       "      <td>0</td>\n",
       "      <td>2004</td>\n",
       "      <td>11</td>\n",
       "      <td>2</td>\n",
       "      <td>7</td>\n",
       "      <td>6</td>\n",
       "      <td>...</td>\n",
       "      <td>0</td>\n",
       "      <td>0</td>\n",
       "      <td>0</td>\n",
       "      <td>1</td>\n",
       "      <td>0</td>\n",
       "      <td>0</td>\n",
       "      <td>0</td>\n",
       "      <td>0</td>\n",
       "      <td>0</td>\n",
       "      <td>0</td>\n",
       "    </tr>\n",
       "  </tbody>\n",
       "</table>\n",
       "<p>5 rows × 41 columns</p>\n",
       "</div>"
      ],
      "text/plain": [
       "          performer          show  show_start show_end  status  charend  \\\n",
       "0       Steven Hill   Law & Order        1990     2010       0     2000   \n",
       "1    Kelli Williams  The Practice        1997     2014       0     2003   \n",
       "2  LisaGay Hamilton  The Practice        1997     2014       0     2003   \n",
       "3  Lara Flynn Boyle  The Practice        1997     2014       0     2003   \n",
       "4   Dylan McDermott  The Practice        1997     2014       0     2004   \n",
       "\n",
       "   years_since  lead  support  shows  ...  Law & Order Lost  Six Feet Under  \\\n",
       "0           15     0        0      0  ...            1    0               0   \n",
       "1           12     0        1      6  ...            0    0               0   \n",
       "2           12     2        0      2  ...            0    0               0   \n",
       "3           12     0        0      0  ...            0    0               0   \n",
       "4           11     2        7      6  ...            0    0               0   \n",
       "\n",
       "   The Practice  The Sopranos  The West Wing  True Blood  True Detective  \\\n",
       "0             0             0              0           0               0   \n",
       "1             1             0              0           0               0   \n",
       "2             1             0              0           0               0   \n",
       "3             1             0              0           0               0   \n",
       "4             1             0              0           0               0   \n",
       "\n",
       "   True Detective -10  True Detective -29  \n",
       "0                   0                   0  \n",
       "1                   0                   0  \n",
       "2                   0                   0  \n",
       "3                   0                   0  \n",
       "4                   0                   0  \n",
       "\n",
       "[5 rows x 41 columns]"
      ]
     },
     "execution_count": 194,
     "metadata": {},
     "output_type": "execute_result"
    }
   ],
   "source": [
    "cats.head()"
   ]
  },
  {
   "cell_type": "code",
   "execution_count": 202,
   "metadata": {},
   "outputs": [],
   "source": [
    "merged = df.merge(shows, left_index = True, right_index = True)\n",
    "#have to specify what to merge on\n"
   ]
  },
  {
   "cell_type": "code",
   "execution_count": 203,
   "metadata": {},
   "outputs": [
    {
     "data": {
      "text/plain": [
       "(248, 41)"
      ]
     },
     "execution_count": 203,
     "metadata": {},
     "output_type": "execute_result"
    }
   ],
   "source": [
    "merged.shape"
   ]
  },
  {
   "cell_type": "markdown",
   "metadata": {},
   "source": [
    "#### Quickie Heatmap - isolating one column"
   ]
  },
  {
   "cell_type": "code",
   "execution_count": 198,
   "metadata": {},
   "outputs": [
    {
     "data": {
      "text/plain": [
       "<matplotlib.axes._subplots.AxesSubplot at 0x13524fac8>"
      ]
     },
     "execution_count": 198,
     "metadata": {},
     "output_type": "execute_result"
    },
    {
     "data": {
      "image/png": "[encoded data removed]",
      "text/plain": [
       "<Figure size 504x504 with 2 Axes>"
      ]
     },
     "metadata": {
      "needs_background": "light"
     },
     "output_type": "display_data"
    }
   ],
   "source": [
    "plt.figure(figsize=(7, 7))\n",
    "sns.heatmap(df.corr()[['status']].sort_values('status'), annot=True, cmap='viridis')"
   ]
  },
  {
   "cell_type": "code",
   "execution_count": null,
   "metadata": {},
   "outputs": [],
   "source": []
  }
 ],
 "metadata": {
  "kernelspec": {
   "display_name": "Python 3",
   "language": "python",
   "name": "python3"
  },
  "language_info": {
   "codemirror_mode": {
    "name": "ipython",
    "version": 3
   },
   "file_extension": ".py",
   "mimetype": "text/x-python",
   "name": "python",
   "nbconvert_exporter": "python",
   "pygments_lexer": "ipython3",
   "version": "3.6.8"
  }
 },
 "nbformat": 4,
 "nbformat_minor": 2
}
