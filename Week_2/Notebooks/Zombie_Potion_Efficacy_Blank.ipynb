{
 "cells": [
  {
   "cell_type": "markdown",
   "metadata": {},
   "source": [
    "<img src=\"http://jasonswoods.com/wp-content/uploads/2017/08/zombie-apocalypse.jpg\" style=\"float: center; margin: 50px; height: 300px\">"
   ]
  },
  {
   "cell_type": "markdown",
   "metadata": {},
   "source": [
    "\n",
    "## A Double Blind Study - Zombie-Potion Efficacy Study\n",
    "    Does the potion increase patient's cravings for brains???\n",
    "\n",
    "\n",
    "---\n",
    "\n",
    "### Objectives\n",
    "- Define the null and alternative hypotheses.\n",
    "- Perform a two-sample t-test.\n",
    "- Define the t-statistics and p-value.\n",
    "- List the steps of hypothesis testing."
   ]
  },
  {
   "cell_type": "code",
   "execution_count": 1,
   "metadata": {},
   "outputs": [],
   "source": [
    "import numpy as np\n",
    "import scipy.stats as stats\n",
    "import seaborn as sns\n",
    "import matplotlib.pyplot as plt\n",
    "import statistics as stats\n",
    "\n",
    "plt.style.use('fivethirtyeight')\n",
    "\n",
    "%config InlineBackend.figure_format = 'retina'\n",
    "%matplotlib inline"
   ]
  },
  {
   "cell_type": "markdown",
   "metadata": {
    "collapsed": true
   },
   "source": [
    "## Hypothesis Testing"
   ]
  },
  {
   "cell_type": "markdown",
   "metadata": {},
   "source": [
    "- We randomly select 1000 people to be in the placebo control condition and 1000 people to recieve the zombie potion.\n",
    "- We know our sample is selected from a broader, unknown population pool - tens of thousands have been captured for experimentation in the hopes of creating a **zombie army**."
   ]
  },
  {
   "cell_type": "markdown",
   "metadata": {},
   "source": [
    "<img src=\"https://media.giphy.com/media/6q6iJkAi15mBa/giphy.gif\" style=\"float: center; margin: 10px; height: 300px\">"
   ]
  },
  {
   "cell_type": "markdown",
   "metadata": {},
   "source": [
    "### What are the 5 steps in Hypothesis Testing??\n",
    "1. Construct a null hypothesis that you want to contradict and its complement, the alternative hypothesis.\n",
    "2. Specify a level of significance.\n",
    "3. Calculate your point estimate(s).  (aka what is our statistic?)\n",
    "4. Calculate your test statistic.\n",
    "5. Find your $p$-value and make a conclusion."
   ]
  },
  {
   "cell_type": "markdown",
   "metadata": {},
   "source": [
    "### 1. We need to define our hypotheses... We want to see if there is a difference between the control group and the treatment group. What is our Null hypothesis and what is our Alternative hypothesis?"
   ]
  },
  {
   "cell_type": "markdown",
   "metadata": {},
   "source": [
    "**H0 (\"H-Naught\"):** The mean difference between treatment and control groups is zero. Humans remain humans.\n",
    "\n",
    "<img src=\"https://cdn.psychologytoday.com/sites/default/files/field_blog_entry_images/2018-05/o-hug-facebook.jpg\" style=\"float: center; margin: 15px; height: 200px\">"
   ]
  },
  {
   "cell_type": "markdown",
   "metadata": {},
   "source": [
    "**HA:** The mean difference between treatment and control groups is different.\n",
    "\n",
    "<img src=\"https://www.basementmedicine.org/wp-content/uploads/2013/09/human-vs-zombies.jpg\" style=\"float: center; margin: 15px; height: 250px\">"
   ]
  },
  {
   "cell_type": "markdown",
   "metadata": {},
   "source": [
    "## The T-Test\n",
    "\n",
    "---\n",
    "\n",
    "#### Brain Cravings: After their first week of treatment, subjects are asked to rate their craving for brains on a scale of 1-100. We receive the following results: \n"
   ]
  },
  {
   "cell_type": "markdown",
   "metadata": {},
   "source": [
    "**(Let's set up the treatment and control observations below as numpy arrays.)**"
   ]
  },
  {
   "cell_type": "code",
   "execution_count": 4,
   "metadata": {},
   "outputs": [],
   "source": [
    "np.random.seed()\n",
    "\n",
    "control_group = "
   ]
  },
  {
   "cell_type": "code",
   "execution_count": 5,
   "metadata": {},
   "outputs": [],
   "source": [
    "treatment_group= "
   ]
  },
  {
   "cell_type": "code",
   "execution_count": 6,
   "metadata": {},
   "outputs": [],
   "source": [
    "print(\"The difference between the means of our two groups is:\", \n"
   ]
  },
  {
   "cell_type": "markdown",
   "metadata": {},
   "source": [
    "The difference between treatment and control groups appears large, but, with 1000 subjects in each group, how confident can we be that this measured difference is real? \n",
    "\n",
    "**Let's perform a t-test to find out!**\n",
    "The t-test can tell us if the differences between the two groups is signficant.\n",
    "\n",
    "First, we will calculate a **t-statistic**. The t-statistic is a measure of the degree to which our groups differ, standardized by the variance of our measurements.\n",
    "\n",
    "Secondly, we will calculate a **p-value**. The p-value is a metric that indicates a probability that our measured difference was because of random chance in the sampling of subjects."
   ]
  },
  {
   "cell_type": "markdown",
   "metadata": {},
   "source": [
    "### Step 2: Specify a level of significance\n",
    "\n",
    "If $P(\\text{data}\\;|\\;H_0)$ is \"small\" then our data probably does not support our null hypothesis.  But how \"small\" is small enough?\n",
    "\n",
    "This is set by our level of significance, which we call $\\alpha$.  (alpha)\n",
    "\n",
    "Typically (and somewhat arbitrarily) the value $\\alpha=0.05$ is used.  This means that there is a 5% chance that we will _incorrectly reject the null hypothesis_ (aka Type 1 error or false positive).  Put another way, there is a 5% chance that we will claim a significant difference between the two groups when in fact there is no (statistically significant) difference.\n",
    "It's also not uncommon to use a 0.01, so let's try that for today..."
   ]
  },
  {
   "cell_type": "code",
   "execution_count": 7,
   "metadata": {},
   "outputs": [],
   "source": [
    "alpha = 0.01"
   ]
  },
  {
   "cell_type": "markdown",
   "metadata": {},
   "source": [
    "<a id='t-statistic'></a>\n",
    "\n",
    "### Calculating the T-Statistic\n",
    "\n",
    "---\n",
    "\n",
    "When comparing two means, the **t-statistic** is a classic metric for quantifying the difference between groups. Our t-statistic tells us the difference between groups where the standardization is adjusting for the variance in measurements.\n",
    "\n",
    "When comparing the difference between groups, we can calculate the two-sample t-statistic like so:\n",
    "\n",
    "### $$t = \\frac{\\bar{x}_E - \\bar{x}_C}{\\sqrt {s^2 (\\frac{1}{n_E} + \\frac{1}{n_C})}}$$\n"
   ]
  },
  {
   "cell_type": "markdown",
   "metadata": {},
   "source": [
    "**Let's do this calculation using `scipy.stats.ttest_ind`.**"
   ]
  },
  {
   "cell_type": "code",
   "execution_count": 8,
   "metadata": {},
   "outputs": [],
   "source": [
    "import scipy.stats as stats"
   ]
  },
  {
   "cell_type": "code",
   "execution_count": null,
   "metadata": {},
   "outputs": [],
   "source": []
  },
  {
   "cell_type": "code",
   "execution_count": null,
   "metadata": {},
   "outputs": [],
   "source": []
  },
  {
   "cell_type": "code",
   "execution_count": 9,
   "metadata": {},
   "outputs": [],
   "source": [
    "t_stat, p_value = \n"
   ]
  },
  {
   "cell_type": "markdown",
   "metadata": {},
   "source": [
    "#### Now we can compare our p_value to our alpha to determine if there is a signficant difference between groups.\n",
    "\n",
    "Recall that our alpha is 0.01. We can see above that our p_value is less that our alpha value (it's essentially zero). What does this tell us?"
   ]
  },
  {
   "cell_type": "markdown",
   "metadata": {},
   "source": [
    "<a id='visualizing-t-statistic'></a>\n",
    "\n",
    "### Visualizing the T-Statistic\n",
    "\n",
    "We can plot the t-distribution below. It is centered on 0, where a value of 0 corresponds to our null hypothesis. We can also plot a vertical line with our measured t-statistic."
   ]
  },
  {
   "cell_type": "code",
   "execution_count": 12,
   "metadata": {},
   "outputs": [],
   "source": [
    "# Generate points on the x axis between -45 and 45:\n",
    "xpoints = np.linspace(-45, 45, 30)  #(min, max, how many steps in between)\n",
    "\n",
    "# Use `stats.t.pdf` to get values on the probability density function for the t-distribution.\n",
    "# The second argument is the degrees of freedom: n1 + n2 - 2.\n",
    "ypoints = stats.t.pdf(xpoints, (100 + 100 -2), 0, 1)     \n",
    "#probability density function, then the points we want to pass in, the mean and the std, and ddof"
   ]
  },
  {
   "cell_type": "code",
   "execution_count": 13,
   "metadata": {},
   "outputs": [],
   "source": [
    "# # Initialize a `matplotlib` \"figure.\"\n",
    "fig = plt.figure(figsize=(8,5))\n",
    "\n",
    "# # Get the current \"axis\" out of the figure.\n",
    "ax = fig.gca()\n",
    "\n",
    "# # Plot the lines using `matplotlib`'s plot function:\n",
    "ax.plot(xpoints, ypoints, linewidth=3, color='darkred')\n",
    "\n",
    "# # Plot a vertical line for our measured difference in rates' t-statistic.\n",
    "ax.axvline(t_stat, color='black', linestyle='--', lw=5)\n",
    "\n",
    "# #the vertical line is the t-statistic "
   ]
  },
  {
   "cell_type": "markdown",
   "metadata": {},
   "source": [
    "<a id='p-value'></a>\n",
    "\n",
    "### Step 5: The P-Value: Now we can calculate the statisitical signficance of the test with a pvalue\n",
    "\n",
    "With the t-statistic, we are able to calculate the *statistical significance* of the test with a **p-value**. Statistical significance indicates our degree of confidence to infer a parameter about an overall population based on a statistic calculated from our sample.\n",
    "\n",
    "> **The p-value is the probability that, given that the null hypothesis `H0` is true, we could have ended up with a statistic at least as extreme as the one measured from our random sample of data from the true population.**\n",
    "\n",
    "We have measured a difference in brain cravings of +42.33999 between the serum and control groups. We then calculated a t-statistic associated with this difference of +14.135. In our specific example:\n",
    "\n",
    "> The p-value is the probability that, given there is a 0.0 true difference in brain cravings between zombie-serum and control conditions (i.e., no effect of the zombie-zerum), we were able to calculate a t-statistic at least as extreme as +14.135 from a random sample of data from the true population."
   ]
  },
  {
   "cell_type": "markdown",
   "metadata": {},
   "source": [
    "<a id='visualize-p-value'></a>\n",
    "\n",
    "### Visualizing the P-Value\n",
    "\n",
    "---\n",
    "\n",
    "Our null hypothesis states that there is no difference between the groups, so the t-statistic would be 0. \n",
    "\n",
    "Recall that our alternative hypothesis is that the difference between groups is *not* 0. This could mean that the difference is greater *or* less than 0 — we haven't specified either. This is known as a **two-tailed t-test**, which is what we are currently conducting. The test is \"two tailed\" because, when we say \"at least as extreme as ...,\" we are thinking about the *magnitude* of our t-statistic.\n",
    "\n",
    "**We can plot the t-distribution again using our positive and negative t-statistic**"
   ]
  },
  {
   "cell_type": "code",
   "execution_count": 100,
   "metadata": {},
   "outputs": [
    {
     "data": {
      "text/plain": [
       "<matplotlib.lines.Line2D at 0x1a1d431d30>"
      ]
     },
     "execution_count": 100,
     "metadata": {},
     "output_type": "execute_result"
    },
    {
     "data": {
      "image/png": "[encoded data removed]",
      "text/plain": [
       "<Figure size 576x360 with 1 Axes>"
      ]
     },
     "metadata": {
      "image/png": {
       "height": 299,
       "width": 547
      },
      "needs_background": "light"
     },
     "output_type": "display_data"
    }
   ],
   "source": [
    "fig = plt.figure(figsize=(8,5))\n",
    "ax = fig.gca()\n",
    "\n",
    "ax.plot(xpoints, ypoints, linewidth=3, color='darkred')\n",
    "\n",
    "ax.axvline(t_stat, color='black', linestyle='--', lw=5)\n",
    "ax.axvline(-t_stat, color='black', linestyle='--', lw=5)"
   ]
  },
  {
   "cell_type": "markdown",
   "metadata": {},
   "source": [
    "**Our p-value corresponds to the area under the curve of the distribution where the magnitude of the t-statistic is greater than or equal to the one we measured (shown with the dotted lines)**.\n",
    "\n",
    "`stats.t.cdf()` is the cumulative distribution function and will calculate the area under the curve, up to a specified t-statistic. \n",
    "\n",
    "**Calculate the area under the tails of the t-distribution that falls beyond the dotted lines using the `.cdf()` function. This will verify that it's the same as the p-value calculated by `scipy`.**"
   ]
  },
  {
   "cell_type": "code",
   "execution_count": 14,
   "metadata": {},
   "outputs": [],
   "source": [
    "# #sample sizes\n",
    "n_zombie = len(treatment_group)\n",
    "n_control = len(control_group)\n",
    "\n",
    "# # calculate area in the tails using cdf\n",
    "lower_tail = stats.t.cdf(t_stat, (n_zombie + n_control - 2))    #whats the value of the tstat and how many degrees of freedom\n",
    "upper_tail = 1 - stats.t.cdf(abs(t_stat), (n_zombie + n_control -2))            \n",
    "\n",
    "# #calculate p-value\n",
    "p_value_manual = lower_tail + upper_tail\n",
    "\n",
    "# #print out tails and pvalues"
   ]
  },
  {
   "cell_type": "markdown",
   "metadata": {},
   "source": [
    "### So what's the conclusion? *(this will show up in interviews!)*\n",
    "\n",
    "Remember that $\\alpha$ is our level of significance.  Let's call the $p$-value $p$.\n",
    "\n",
    "- If $p < \\alpha$, then there is evidence to reject the null hypothesis, so you conclude that $H_0$ is incorrect and therefore $H_1$ is correct.\n",
    "    - i.e., a statisically significant difference between the two groups!\n",
    "- If $p > \\alpha$, then there is insufficient evidence to reject the null hypothesis and you cannot conclude that either $H_0$ or $H_1$ is correct or incorrect.\n",
    "    - i.e., there is no statistical difference between your two groups."
   ]
  },
  {
   "cell_type": "markdown",
   "metadata": {},
   "source": [
    "### Since our p-value is less than our alpha (0.01) we can say that there is ample evidence to reject the null hypothesis. We can conclude that the null hypothesis is false and our alternative hypothesis is correct... the potion is effective and we have a zombie army in the making!!!!!"
   ]
  },
  {
   "cell_type": "markdown",
   "metadata": {},
   "source": [
    "<img src=\"https://media.giphy.com/media/Z4IXspU3iCHlK/giphy.gif\" style=\"float: center; margin: 40px; height: 400px\">"
   ]
  },
  {
   "cell_type": "markdown",
   "metadata": {},
   "source": [
    "<a id='additional-resources'></a>\n",
    "\n",
    "### Additional Resources\n",
    "\n",
    "---\n",
    "\n",
    "- [A high-level overview of the t-test procedure](http://blog.minitab.com/blog/statistics-and-quality-data-analysis/what-are-t-values-and-p-values-in-statistics).\n",
    "- [Another overview of the t-test procedure](http://www.statsdirect.com/help/parametric_methods/utt.htm).\n"
   ]
  },
  {
   "cell_type": "code",
   "execution_count": null,
   "metadata": {},
   "outputs": [],
   "source": []
  }
 ],
 "metadata": {
  "anaconda-cloud": {},
  "kernelspec": {
   "display_name": "Python 3",
   "language": "python",
   "name": "python3"
  },
  "language_info": {
   "codemirror_mode": {
    "name": "ipython",
    "version": 3
   },
   "file_extension": ".py",
   "mimetype": "text/x-python",
   "name": "python",
   "nbconvert_exporter": "python",
   "pygments_lexer": "ipython3",
   "version": "3.6.8"
  }
 },
 "nbformat": 4,
 "nbformat_minor": 2
}
