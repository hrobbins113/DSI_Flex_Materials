{
 "cells": [
  {
   "cell_type": "markdown",
   "metadata": {},
   "source": [
    "### Activity 1: Write a function that takes in a tuple and returns a list"
   ]
  },
  {
   "cell_type": "code",
   "execution_count": 45,
   "metadata": {},
   "outputs": [],
   "source": [
    "tup = (1, 3, 'cat', 'dog', 10, 'panda', 1.43)"
   ]
  },
  {
   "cell_type": "code",
   "execution_count": 46,
   "metadata": {},
   "outputs": [
    {
     "data": {
      "text/plain": [
       "[1, 3, 'cat', 'dog', 10, 'panda', 1.43]"
      ]
     },
     "execution_count": 46,
     "metadata": {},
     "output_type": "execute_result"
    }
   ],
   "source": [
    "#Paolo\n",
    "\n",
    "tup = (1, 3, 'cat', 'dog', 10, 'panda', 1.43)\n",
    "new_list = []\n",
    "for item in tup:\n",
    "    new_list.append(item)\n",
    "new_list"
   ]
  },
  {
   "cell_type": "code",
   "execution_count": 47,
   "metadata": {},
   "outputs": [
    {
     "data": {
      "text/plain": [
       "[1, 3, 'cat', 'dog', 10, 'panda', 1.43]"
      ]
     },
     "execution_count": 47,
     "metadata": {},
     "output_type": "execute_result"
    }
   ],
   "source": [
    "#Alex\n",
    "def tup_to_lst(tupl):\n",
    "    return list(tupl)\n",
    "tup_to_lst(tup)"
   ]
  },
  {
   "cell_type": "code",
   "execution_count": 17,
   "metadata": {},
   "outputs": [],
   "source": [
    "# H:\n",
    "def tup_list(x):\n",
    "    return list(x)\n",
    "\n",
    "tup_list(tup)"
   ]
  },
  {
   "cell_type": "markdown",
   "metadata": {},
   "source": [
    "### Activity 2:  Use a for loop that will find all of the words in a string that are less than 4 letters and return those words"
   ]
  },
  {
   "cell_type": "code",
   "execution_count": 49,
   "metadata": {},
   "outputs": [],
   "source": [
    "#Nate\n",
    "teststring = 'this is a string that i wrote'\n",
    "\n",
    "def lessthan4(s):\n",
    "    strlist = s.split()\n",
    "    lesslist = []\n",
    "    for x in strlist:\n",
    "        if len(x) < 4:\n",
    "            lesslist.append(x)\n",
    "    return lesslist"
   ]
  },
  {
   "cell_type": "code",
   "execution_count": 50,
   "metadata": {},
   "outputs": [
    {
     "data": {
      "text/plain": [
       "['is', 'a', 'i']"
      ]
     },
     "execution_count": 50,
     "metadata": {},
     "output_type": "execute_result"
    }
   ],
   "source": [
    "lessthan4(teststring)"
   ]
  },
  {
   "cell_type": "code",
   "execution_count": 51,
   "metadata": {
    "scrolled": true
   },
   "outputs": [
    {
     "name": "stdout",
     "output_type": "stream",
     "text": [
      "is\n",
      "a\n",
      "i\n"
     ]
    }
   ],
   "source": [
    "# Heather:\n",
    "    \n",
    "teststring = 'this is a string that i wrote'\n",
    "\n",
    "\n",
    "for word in teststring.split():\n",
    "    if len(word) < 4:\n",
    "        print(word)"
   ]
  },
  {
   "cell_type": "code",
   "execution_count": 52,
   "metadata": {},
   "outputs": [],
   "source": [
    "# Tell me why this won't work:\n",
    "# teststring = 'this is a string that i wrote'\n",
    "# for word in teststring.split():\n",
    "#     while len(word) < 4:\n",
    "#         print(word)"
   ]
  },
  {
   "cell_type": "markdown",
   "metadata": {},
   "source": [
    "### Activity 3: Let's create a new function called sum_list() where the input is a list and the output is the sum of the numbers in that list."
   ]
  },
  {
   "cell_type": "code",
   "execution_count": 55,
   "metadata": {},
   "outputs": [
    {
     "data": {
      "text/plain": [
       "21"
      ]
     },
     "execution_count": 55,
     "metadata": {},
     "output_type": "execute_result"
    }
   ],
   "source": [
    "#Ben\n",
    "lst = [2, 3, 4, 5, 7]\n",
    "def sum_list(lst):\n",
    "    return sum(lst)\n",
    "\n",
    "sum_list(lst)"
   ]
  },
  {
   "cell_type": "code",
   "execution_count": 56,
   "metadata": {},
   "outputs": [
    {
     "data": {
      "text/plain": [
       "21"
      ]
     },
     "execution_count": 56,
     "metadata": {},
     "output_type": "execute_result"
    }
   ],
   "source": [
    "#Alex\n",
    "\n",
    "lst = [2, 3, 4, 5, 7]\n",
    "\n",
    "def sum_list(lst):\n",
    "    counter = 0\n",
    "    for x in lst:\n",
    "        counter += x\n",
    "    return counter\n",
    "sum_list(lst)  "
   ]
  },
  {
   "cell_type": "code",
   "execution_count": 44,
   "metadata": {},
   "outputs": [
    {
     "data": {
      "text/plain": [
       "21"
      ]
     },
     "execution_count": 44,
     "metadata": {},
     "output_type": "execute_result"
    }
   ],
   "source": [
    "# Heather:\n",
    "    \n",
    "lst = [2, 3, 4, 5, 7]\n",
    "\n",
    "def sum_list(items):\n",
    "    sum_numbers = 0\n",
    "    for item in items:\n",
    "        sum_numbers += item\n",
    "    return sum_numbers\n",
    "\n",
    "sum_list(lst)"
   ]
  },
  {
   "cell_type": "markdown",
   "metadata": {},
   "source": [
    "### Activity 4: Write a function or use a list comprehension to create a new list called 'evens' out of the list called \"numbers\". Your new list should contain only the even numbers from the list, as integers."
   ]
  },
  {
   "cell_type": "code",
   "execution_count": 58,
   "metadata": {},
   "outputs": [],
   "source": [
    "#Brendan\n",
    "\n",
    "numbers = [1, 3, 4, 6, 7, 8]\n",
    "\n",
    "def evens(listarg):\n",
    "    even_list = []\n",
    "    for number in listarg:\n",
    "        if number % 2 == 0:\n",
    "            even_list.append(number)\n",
    "    return even_list"
   ]
  },
  {
   "cell_type": "code",
   "execution_count": 59,
   "metadata": {},
   "outputs": [
    {
     "data": {
      "text/plain": [
       "[4, 6, 8]"
      ]
     },
     "execution_count": 59,
     "metadata": {},
     "output_type": "execute_result"
    }
   ],
   "source": [
    "evens(numbers)"
   ]
  },
  {
   "cell_type": "code",
   "execution_count": 60,
   "metadata": {},
   "outputs": [],
   "source": [
    "#Nate\n",
    "def evens(lst):\n",
    "    evennums = []\n",
    "    for x in numbers:\n",
    "        if x%2 == 0:\n",
    "            evennums.append(x)\n",
    "    return evennums"
   ]
  },
  {
   "cell_type": "code",
   "execution_count": 61,
   "metadata": {},
   "outputs": [],
   "source": [
    "#Paolo\n",
    "\n",
    "def evens(intlist):\n",
    "    even_nums=[]\n",
    "    for num in intlist:\n",
    "        if num%2 == 0:\n",
    "            even_nums.append(num)\n",
    "    return even_nums"
   ]
  },
  {
   "cell_type": "code",
   "execution_count": null,
   "metadata": {},
   "outputs": [],
   "source": [
    "#as a list comprehension\n",
    "numbers = [1, 2, 5, 3, 6, 8, 10]\n",
    "\n",
    "evens = [x for x in numbers if x%2 == 0]\n",
    "evens"
   ]
  },
  {
   "cell_type": "markdown",
   "metadata": {},
   "source": [
    "### Activity 5: I have a list of random things.Write a function that will return 0 if the thing is pizza, a 1 if the thing is a phone  and a 2 if the thing is something else. Should return a list of 0, 1, 2"
   ]
  },
  {
   "cell_type": "code",
   "execution_count": 41,
   "metadata": {},
   "outputs": [],
   "source": [
    "things = ['pizza', 'laptops', 'phone', 'games', 'jacket', 'laptops', 'pizza', 'phone']\n"
   ]
  },
  {
   "cell_type": "code",
   "execution_count": 43,
   "metadata": {},
   "outputs": [
    {
     "data": {
      "text/plain": [
       "[0, 2, 1, 2, 2, 2, 0, 1]"
      ]
     },
     "execution_count": 43,
     "metadata": {},
     "output_type": "execute_result"
    }
   ],
   "source": [
    "\n",
    "def funny_funct(a_list):\n",
    "    new_list =[]\n",
    "    for item in a_list:\n",
    "        if item == 'pizza':\n",
    "            new_list.append(0)\n",
    "        elif item == 'phone':\n",
    "            new_list.append(1)\n",
    "        else:\n",
    "            new_list.append(2)\n",
    "    return new_list\n",
    "\n",
    "funny_funct(things)"
   ]
  },
  {
   "cell_type": "code",
   "execution_count": null,
   "metadata": {},
   "outputs": [],
   "source": []
  },
  {
   "cell_type": "code",
   "execution_count": 27,
   "metadata": {},
   "outputs": [],
   "source": [
    "#Heather:\n",
    "    \n",
    "# def random_things(stuff):\n",
    "#     my_stuff = []\n",
    "#     for item in stuff:\n",
    "#         if item == 'pizza':\n",
    "#             my_stuff.append(0)\n",
    "#         elif item == 'phone':\n",
    "#             my_stuff.append(1)\n",
    "#         else:\n",
    "#             my_stuff.append(2)\n",
    "#     return my_stuff\n",
    "\n",
    "# random_things(things)"
   ]
  },
  {
   "cell_type": "code",
   "execution_count": null,
   "metadata": {},
   "outputs": [],
   "source": []
  }
 ],
 "metadata": {
  "kernelspec": {
   "display_name": "Python 3",
   "language": "python",
   "name": "python3"
  },
  "language_info": {
   "codemirror_mode": {
    "name": "ipython",
    "version": 3
   },
   "file_extension": ".py",
   "mimetype": "text/x-python",
   "name": "python",
   "nbconvert_exporter": "python",
   "pygments_lexer": "ipython3",
   "version": "3.6.8"
  }
 },
 "nbformat": 4,
 "nbformat_minor": 2
}
