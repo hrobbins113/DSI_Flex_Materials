{
 "cells": [
  {
   "cell_type": "markdown",
   "metadata": {},
   "source": [
    "### Morning Review"
   ]
  },
  {
   "cell_type": "markdown",
   "metadata": {},
   "source": [
    "### Intro to Jupyter Notebooks\n",
    " \n",
    "There are different types of cells. This is a markdown cell! Markdown is just a text formatting \"language\" that we use to make our notebooks easy to read. The README files in each repo are also markdown files.\n",
    "\n",
    "https://medium.com/ibm-data-science-experience/markdown-for-jupyter-notebooks-cheatsheet-386c05aeebed"
   ]
  },
  {
   "cell_type": "code",
   "execution_count": 3,
   "metadata": {},
   "outputs": [],
   "source": [
    "# This is a code cell! In particular, this is a comment."
   ]
  },
  {
   "cell_type": "markdown",
   "metadata": {},
   "source": [
    "Try using command + / to create a commented cell!"
   ]
  },
  {
   "cell_type": "code",
   "execution_count": null,
   "metadata": {},
   "outputs": [],
   "source": []
  },
  {
   "cell_type": "code",
   "execution_count": 2,
   "metadata": {},
   "outputs": [],
   "source": []
  },
  {
   "cell_type": "markdown",
   "metadata": {},
   "source": [
    "To change the type of a cell, use the dropdown menu above. Or, use Esc to move into \"command mode,\" where the cell outline is blue rather than green. In command mode, y makes the cell a code cell and m makes the cell a markdown cell.\n",
    "\n",
    "You can do all sorts of things in command mode. You can select multiple cells with Shift and then use Shift + m to merge all of those cells.\n",
    "\n",
    "I recommend playing around with the buttons at the top of the notebook. Figure out what they all do and, if you like, commit to memory some keyboard shortcuts for them.\n",
    "\n",
    "Above the buttons, you see a series of tabs (File, Edit, View, etc.) The important one to understand is the Kernel tab. In it, you can restart your Python kernel, clear the output, etc. You should be able to \"Restart and Run All\" on your notebook to ensure everything is running as you expect it to you when you run it from top to bottom.\n",
    "\n",
    "### Data types review"
   ]
  },
  {
   "cell_type": "markdown",
   "metadata": {},
   "source": [
    "### Numbers"
   ]
  },
  {
   "cell_type": "markdown",
   "metadata": {},
   "source": [
    "\n",
    "There are basically only two that you need to worry about (for now!:"
   ]
  },
  {
   "cell_type": "code",
   "execution_count": 3,
   "metadata": {},
   "outputs": [],
   "source": [
    "#integers: what can you tell me about integers? \n",
    "# Give me an example of an integer and an operation you would perform with it/them\n"
   ]
  },
  {
   "cell_type": "code",
   "execution_count": null,
   "metadata": {},
   "outputs": [],
   "source": []
  },
  {
   "cell_type": "code",
   "execution_count": 4,
   "metadata": {},
   "outputs": [],
   "source": [
    "##floats\n",
    "# What can you tell me about floats?\n",
    "# Give me an example of a float and an operation you might perform with it\n",
    "\n"
   ]
  },
  {
   "cell_type": "code",
   "execution_count": null,
   "metadata": {},
   "outputs": [],
   "source": []
  },
  {
   "cell_type": "code",
   "execution_count": null,
   "metadata": {},
   "outputs": [],
   "source": []
  },
  {
   "cell_type": "markdown",
   "metadata": {},
   "source": [
    "### Sequential Data Types\n",
    "\n",
    "Why are they 'sequential'? Because they have elements! This means they can be indexed and sliced. This also means they can be iterated upon. They are iterables. We'll discuss iterables in greater depth when we discuss control flow and list comprehensions. Note: not all iterables are sequential types!\n",
    "\n",
    "### Tuples\n",
    "Tuples are the most 'basic' sequential type. They are IMMUTABLE AND ORDERED, and there's not too much you can do with them. But they're the 'default' data structure when there is more than one element:"
   ]
  },
  {
   "cell_type": "code",
   "execution_count": 119,
   "metadata": {},
   "outputs": [],
   "source": [
    "# TUPLES ARE IMMUTABLE AND ORDERED\n",
    "\n",
    "# Give me an example of a tuple. How many elements can a tuple have? What can be inside of a tuple?"
   ]
  },
  {
   "cell_type": "code",
   "execution_count": null,
   "metadata": {},
   "outputs": [],
   "source": []
  },
  {
   "cell_type": "code",
   "execution_count": null,
   "metadata": {},
   "outputs": [],
   "source": []
  },
  {
   "cell_type": "markdown",
   "metadata": {},
   "source": [
    "x,y is the same as (x,y):"
   ]
  },
  {
   "cell_type": "code",
   "execution_count": 6,
   "metadata": {},
   "outputs": [],
   "source": [
    "# x = \n",
    "# y = \n",
    "\n",
    "# x, y"
   ]
  },
  {
   "cell_type": "code",
   "execution_count": null,
   "metadata": {},
   "outputs": [],
   "source": []
  },
  {
   "cell_type": "markdown",
   "metadata": {},
   "source": [
    "### Lists\n",
    "\n",
    "Lists are the 'go to' sequential type / data structure / object in native Python. Like tuples, they contain ordered heterogenous elements. Unlike tuples, they are mutable, which means we can do all sorts of things to change them, like so:\n",
    "\n",
    "LISTS ARE MUTABLE!"
   ]
  },
  {
   "cell_type": "code",
   "execution_count": 7,
   "metadata": {},
   "outputs": [
    {
     "data": {
      "text/plain": [
       "9"
      ]
     },
     "execution_count": 7,
     "metadata": {},
     "output_type": "execute_result"
    }
   ],
   "source": [
    "# Lists come in square brackets:\n",
    "x = [1,2,7,4,5, 'stuff', 'things', '1.67', 1.75]\n",
    "\n",
    "len(x)"
   ]
  },
  {
   "cell_type": "code",
   "execution_count": 123,
   "metadata": {},
   "outputs": [],
   "source": [
    "# you can slice a list by using the index. Remember python is zero-indexed"
   ]
  },
  {
   "cell_type": "code",
   "execution_count": null,
   "metadata": {},
   "outputs": [],
   "source": []
  },
  {
   "cell_type": "code",
   "execution_count": 8,
   "metadata": {
    "scrolled": true
   },
   "outputs": [],
   "source": [
    "#the second digit is NOT INCLUSIVE"
   ]
  },
  {
   "cell_type": "code",
   "execution_count": null,
   "metadata": {
    "scrolled": true
   },
   "outputs": [],
   "source": []
  },
  {
   "cell_type": "code",
   "execution_count": null,
   "metadata": {},
   "outputs": [],
   "source": []
  },
  {
   "cell_type": "markdown",
   "metadata": {},
   "source": [
    "You can change list items:"
   ]
  },
  {
   "cell_type": "code",
   "execution_count": 9,
   "metadata": {},
   "outputs": [],
   "source": [
    "# random values.. \n",
    "odd = [2, 4, 6, 8]\n",
    "#...wait, these aren't odds. let's change that. \n"
   ]
  },
  {
   "cell_type": "code",
   "execution_count": 10,
   "metadata": {},
   "outputs": [],
   "source": [
    "# # change the 1st item    \n"
   ]
  },
  {
   "cell_type": "code",
   "execution_count": 11,
   "metadata": {},
   "outputs": [
    {
     "name": "stdout",
     "output_type": "stream",
     "text": [
      "[2, 4, 6, 8]\n"
     ]
    }
   ],
   "source": [
    "print(odd)"
   ]
  },
  {
   "cell_type": "code",
   "execution_count": 12,
   "metadata": {},
   "outputs": [],
   "source": [
    "# # change 2nd 4th items\n"
   ]
  },
  {
   "cell_type": "code",
   "execution_count": 13,
   "metadata": {},
   "outputs": [
    {
     "name": "stdout",
     "output_type": "stream",
     "text": [
      "[2, 4, 6, 8]\n"
     ]
    }
   ],
   "source": [
    "print(odd)  #now we've got all odds - woo!"
   ]
  },
  {
   "cell_type": "markdown",
   "metadata": {},
   "source": [
    "We can add one item to a list using append() method or add several items using extend() method."
   ]
  },
  {
   "cell_type": "code",
   "execution_count": 14,
   "metadata": {},
   "outputs": [],
   "source": [
    "numbers = [1, 3, 5]\n",
    "\n",
    "\n"
   ]
  },
  {
   "cell_type": "code",
   "execution_count": 55,
   "metadata": {},
   "outputs": [
    {
     "data": {
      "text/plain": [
       "[1, 3, 5, 7]"
      ]
     },
     "execution_count": 55,
     "metadata": {},
     "output_type": "execute_result"
    }
   ],
   "source": [
    "numbers"
   ]
  },
  {
   "cell_type": "code",
   "execution_count": null,
   "metadata": {},
   "outputs": [],
   "source": []
  },
  {
   "cell_type": "markdown",
   "metadata": {},
   "source": [
    "You can delete things from lists too:"
   ]
  },
  {
   "cell_type": "code",
   "execution_count": 16,
   "metadata": {},
   "outputs": [],
   "source": [
    "my_list = ['mo', 'money', 'mo', 'problems']\n",
    "\n",
    "# delete one item\n",
    "\n",
    "#what will this delete?\n",
    "# my_list\n"
   ]
  },
  {
   "cell_type": "code",
   "execution_count": 17,
   "metadata": {},
   "outputs": [
    {
     "data": {
      "text/plain": [
       "['mo', 'money', 'mo', 'problems']"
      ]
     },
     "execution_count": 17,
     "metadata": {},
     "output_type": "execute_result"
    }
   ],
   "source": [
    "my_list"
   ]
  },
  {
   "cell_type": "code",
   "execution_count": 18,
   "metadata": {
    "scrolled": true
   },
   "outputs": [
    {
     "name": "stdout",
     "output_type": "stream",
     "text": [
      "['mo', 'money', 'mo', 'problems']\n"
     ]
    }
   ],
   "source": [
    "# delete multiple items\n",
    "\n",
    "\n",
    "\n",
    "print(my_list)"
   ]
  },
  {
   "cell_type": "markdown",
   "metadata": {},
   "source": [
    "We can also sort values in a list"
   ]
  },
  {
   "cell_type": "code",
   "execution_count": 24,
   "metadata": {},
   "outputs": [
    {
     "data": {
      "text/plain": [
       "[65, 4, 3, 1]"
      ]
     },
     "execution_count": 24,
     "metadata": {},
     "output_type": "execute_result"
    }
   ],
   "source": [
    "nums = [1, 3, 4, 65]\n",
    "nums.sort(reverse = True) # Default is reverse=False\n",
    "nums"
   ]
  },
  {
   "cell_type": "code",
   "execution_count": 25,
   "metadata": {},
   "outputs": [],
   "source": [
    "animals = [\"Fish\", \"Goat\", \"Baboon\", 1337, 1337.42]\n",
    "animals = [str(animal) for animal in animals]\n",
    "\n",
    "# Default is reverse=False\n"
   ]
  },
  {
   "cell_type": "code",
   "execution_count": null,
   "metadata": {},
   "outputs": [],
   "source": []
  },
  {
   "cell_type": "markdown",
   "metadata": {},
   "source": [
    "### Sets\n",
    "\n",
    "They are mutable but unordered collections of UNIQUE items. They come in {} most of the time. (Note: you can create sets with {} or with the set function. Likewise, there are list, tuple, and dict functions.)"
   ]
  },
  {
   "cell_type": "code",
   "execution_count": 149,
   "metadata": {},
   "outputs": [
    {
     "data": {
      "text/plain": [
       "{1, 4, 6, 8}"
      ]
     },
     "execution_count": 149,
     "metadata": {},
     "output_type": "execute_result"
    }
   ],
   "source": [
    "this_is_a_set = {1, 4, 6, 8}\n",
    "this_is_a_set"
   ]
  },
  {
   "cell_type": "code",
   "execution_count": 150,
   "metadata": {},
   "outputs": [
    {
     "data": {
      "text/plain": [
       "{1, 3, 5, 6}"
      ]
     },
     "execution_count": 150,
     "metadata": {},
     "output_type": "execute_result"
    }
   ],
   "source": [
    "# Using the set function\n",
    "\n",
    "y = [1, 3, 5, 6]\n",
    "set(y)"
   ]
  },
  {
   "cell_type": "code",
   "execution_count": 151,
   "metadata": {},
   "outputs": [],
   "source": [
    "q = {'data', 'science', 'is', 'cool'}\n",
    "z = {'yay', 'fun', 'times', 'data'}"
   ]
  },
  {
   "cell_type": "code",
   "execution_count": 27,
   "metadata": {},
   "outputs": [],
   "source": [
    "# The elements of q that are also in z"
   ]
  },
  {
   "cell_type": "code",
   "execution_count": null,
   "metadata": {},
   "outputs": [],
   "source": []
  },
  {
   "cell_type": "markdown",
   "metadata": {},
   "source": [
    "###  Dictionaries\n",
    "The best way to understand dictionaries it to think of how a regular language dictionary works. Instead of looking up elements according to their location in a certain order, you look up elements according to a certain 'key,' which may be any immutable object.\n",
    "\n",
    "Dictionaries are 'semi-ordered' collection of key, value pairs. I say 'semi-ordered' because Python recently implemented a kind of order for dictionaries. Nevertheless, Python throws an error if you try and access the 'first' value in a dictionary, because that is not how they are meant to be used!"
   ]
  },
  {
   "cell_type": "code",
   "execution_count": 28,
   "metadata": {},
   "outputs": [],
   "source": [
    "instructors = {\n",
    "    \"Matt\": {\n",
    "        \"likes\": ['Mean Girls', 'data', 'politics'],\n",
    "        \"phone_number\": 123456789\n",
    "    },\n",
    "    \"Heather\": {\n",
    "        \"likes\": ['boxing', 'food', 'movies', 'data'],\n",
    "        \"laptop\": {\n",
    "            \"Apple\": {\n",
    "                \"email_address\": ['robbins4113@gmail.com', 'heather.robbins@generalassemb.ly']\n",
    "            }\n",
    "        }\n",
    "    },\n",
    "    \"Riley\": {\n",
    "        \"likes\": ['kaggle', 'sports'],\n",
    "        \"phone_number\": 879752678\n",
    "    },\n",
    "}"
   ]
  },
  {
   "cell_type": "code",
   "execution_count": 29,
   "metadata": {},
   "outputs": [],
   "source": [
    "#display the dictionary"
   ]
  },
  {
   "cell_type": "code",
   "execution_count": 30,
   "metadata": {
    "scrolled": true
   },
   "outputs": [],
   "source": [
    "#display the dictionary items"
   ]
  },
  {
   "cell_type": "code",
   "execution_count": 31,
   "metadata": {},
   "outputs": [],
   "source": [
    "#display the keys in the dictionary"
   ]
  },
  {
   "cell_type": "code",
   "execution_count": 32,
   "metadata": {},
   "outputs": [],
   "source": [
    "#display only the values for the primary keys"
   ]
  },
  {
   "cell_type": "code",
   "execution_count": 33,
   "metadata": {},
   "outputs": [],
   "source": [
    "#what if we want to access the first item in the list of likes for Riley:\n"
   ]
  },
  {
   "cell_type": "code",
   "execution_count": 34,
   "metadata": {},
   "outputs": [],
   "source": [
    "#what is we want to access the work email address for heather?\n"
   ]
  },
  {
   "cell_type": "code",
   "execution_count": 36,
   "metadata": {},
   "outputs": [],
   "source": [
    "#What if we want to access 'politics' in Matt's list of likes?\n",
    "\n",
    "\n"
   ]
  },
  {
   "cell_type": "markdown",
   "metadata": {},
   "source": [
    ".get() will allow us to access all the information associated with a particuar key"
   ]
  },
  {
   "cell_type": "code",
   "execution_count": null,
   "metadata": {
    "scrolled": true
   },
   "outputs": [],
   "source": []
  },
  {
   "cell_type": "code",
   "execution_count": null,
   "metadata": {},
   "outputs": [],
   "source": []
  },
  {
   "cell_type": "code",
   "execution_count": null,
   "metadata": {},
   "outputs": [],
   "source": [
    "\n",
    "    "
   ]
  },
  {
   "cell_type": "markdown",
   "metadata": {},
   "source": [
    "we can add to a dictionary using .update()"
   ]
  },
  {
   "cell_type": "code",
   "execution_count": 38,
   "metadata": {},
   "outputs": [],
   "source": [
    "instructors.update({\n",
    "    \"J\": {\n",
    "        \"likes\": ['stats', 'pugs'],\n",
    "        \"phone_number\": 205782998,\n",
    "    },\n",
    "    \"Brian\": {\n",
    "        \"likes\": ['numbers', 'movies', 'travel'],\n",
    "        \"phone_number\": 800723589\n",
    "    }\n",
    "})\n"
   ]
  },
  {
   "cell_type": "code",
   "execution_count": 39,
   "metadata": {},
   "outputs": [
    {
     "data": {
      "text/plain": [
       "{'Matt': {'likes': ['Mean Girls', 'data', 'politics'],\n",
       "  'phone_number': 123456789},\n",
       " 'Heather': {'likes': ['boxing', 'food', 'movies', 'data'],\n",
       "  'laptop': {'Apple': {'email_address': ['robbins4113@gmail.com',\n",
       "     'heather.robbins@generalassemb.ly']}}},\n",
       " 'Riley': {'likes': ['kaggle', 'sports'], 'phone_number': 879752678},\n",
       " 'J': {'likes': ['stats', 'pugs'], 'phone_number': 205782998},\n",
       " 'Brian': {'likes': ['numbers', 'movies', 'travel'],\n",
       "  'phone_number': 800723589}}"
      ]
     },
     "execution_count": 39,
     "metadata": {},
     "output_type": "execute_result"
    }
   ],
   "source": [
    "instructors"
   ]
  },
  {
   "cell_type": "code",
   "execution_count": null,
   "metadata": {},
   "outputs": [],
   "source": []
  }
 ],
 "metadata": {
  "kernelspec": {
   "display_name": "Python 3",
   "language": "python",
   "name": "python3"
  },
  "language_info": {
   "codemirror_mode": {
    "name": "ipython",
    "version": 3
   },
   "file_extension": ".py",
   "mimetype": "text/x-python",
   "name": "python",
   "nbconvert_exporter": "python",
   "pygments_lexer": "ipython3",
   "version": "3.6.8"
  }
 },
 "nbformat": 4,
 "nbformat_minor": 2
}
