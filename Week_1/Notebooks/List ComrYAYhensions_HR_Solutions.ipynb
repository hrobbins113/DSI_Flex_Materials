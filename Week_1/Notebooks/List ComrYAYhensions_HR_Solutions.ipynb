{
 "cells": [
  {
   "cell_type": "markdown",
   "metadata": {},
   "source": [
    "### 1. Using a list comprehension, create a new list called 'pos' of the list \"numbers\". Your new list should contain only the positive numbers from the list, as integers."
   ]
  },
  {
   "cell_type": "code",
   "execution_count": 1,
   "metadata": {},
   "outputs": [],
   "source": [
    "numbers =  [34.6, -203.4, 44.9, 68.3, -12.2, 44.6, 12.7]"
   ]
  },
  {
   "cell_type": "code",
   "execution_count": 21,
   "metadata": {},
   "outputs": [
    {
     "data": {
      "text/plain": [
       "[34, 44, 68, 44, 12]"
      ]
     },
     "execution_count": 21,
     "metadata": {},
     "output_type": "execute_result"
    }
   ],
   "source": [
    "#Alex\n",
    "[int(number) for number in numbers if number > 0]"
   ]
  },
  {
   "cell_type": "code",
   "execution_count": 2,
   "metadata": {},
   "outputs": [
    {
     "data": {
      "text/plain": [
       "[34, 44, 68, 44, 12]"
      ]
     },
     "execution_count": 2,
     "metadata": {},
     "output_type": "execute_result"
    }
   ],
   "source": [
    "#HR            \n",
    "new_list = [int(x) for x in numbers if x > 0]\n",
    "new_list"
   ]
  },
  {
   "cell_type": "markdown",
   "metadata": {},
   "source": [
    "### 2. Using a list comprehension, find all of the numbers from 1-100 that have a 3 in them"
   ]
  },
  {
   "cell_type": "code",
   "execution_count": 22,
   "metadata": {},
   "outputs": [
    {
     "data": {
      "text/plain": [
       "[3, 13, 23, 30, 31, 32, 33, 34, 35, 36, 37, 38, 39, 43, 53, 63, 73, 83, 93]"
      ]
     },
     "execution_count": 22,
     "metadata": {},
     "output_type": "execute_result"
    }
   ],
   "source": [
    "#Brendan\n",
    "\n",
    "[num for num in range(1,101) if '3' in str(num)]"
   ]
  },
  {
   "cell_type": "code",
   "execution_count": 25,
   "metadata": {},
   "outputs": [
    {
     "data": {
      "text/plain": [
       "[3, 13, 23, 30, 31, 32, 33, 34, 35, 36, 37, 38, 39, 43, 53, 63, 73, 83, 93]"
      ]
     },
     "execution_count": 25,
     "metadata": {},
     "output_type": "execute_result"
    }
   ],
   "source": [
    "#Ben\n",
    "\n",
    "nums_containing_three = [num for num in list(range(1, 101)) if '3' in list(str(num))]\n",
    "nums_containing_three"
   ]
  },
  {
   "cell_type": "code",
   "execution_count": 26,
   "metadata": {},
   "outputs": [
    {
     "data": {
      "text/plain": [
       "['3',\n",
       " '13',\n",
       " '23',\n",
       " '30',\n",
       " '31',\n",
       " '32',\n",
       " '33',\n",
       " '34',\n",
       " '35',\n",
       " '36',\n",
       " '37',\n",
       " '38',\n",
       " '39',\n",
       " '43',\n",
       " '53',\n",
       " '63',\n",
       " '73',\n",
       " '83',\n",
       " '93']"
      ]
     },
     "execution_count": 26,
     "metadata": {},
     "output_type": "execute_result"
    }
   ],
   "source": [
    "one_to_100 = list(range(1,100))\n",
    "#one_to_100\n",
    "one_to_100 = str(one_to_100)\n",
    "one_to_100 = one_to_100.split(\", \")\n",
    "[threes for threes in one_to_100 if '3' in threes]"
   ]
  },
  {
   "cell_type": "code",
   "execution_count": 20,
   "metadata": {},
   "outputs": [
    {
     "data": {
      "text/plain": [
       "[3, 13, 23, 30, 31, 32, 33, 34, 35, 36, 37, 38, 39, 43, 53, 63, 73, 83, 93]"
      ]
     },
     "execution_count": 20,
     "metadata": {},
     "output_type": "execute_result"
    }
   ],
   "source": [
    "# HR \n",
    "results = [int(num) for num in range(1, 101) if '3' in str(num)]\n",
    "results"
   ]
  },
  {
   "cell_type": "markdown",
   "metadata": {},
   "source": []
  },
  {
   "cell_type": "markdown",
   "metadata": {},
   "source": [
    "### 3.  Using a list comprehension, find all of the words in a string that are less than 3 letters"
   ]
  },
  {
   "cell_type": "code",
   "execution_count": 34,
   "metadata": {},
   "outputs": [
    {
     "data": {
      "text/plain": [
       "['I', 'to', 'on', 'my', 'la']"
      ]
     },
     "execution_count": 34,
     "metadata": {},
     "output_type": "execute_result"
    }
   ],
   "source": [
    "teststring = 'I cannot wait to work on my Pokemon la!'\n",
    "\n",
    "[word for word in teststring.strip(\"!\").split() if len(word) < 3]\n"
   ]
  },
  {
   "cell_type": "code",
   "execution_count": null,
   "metadata": {},
   "outputs": [],
   "source": [
    "short_words = [word for word in teststring.split() if len(word) < 3]\n",
    "short_words"
   ]
  },
  {
   "cell_type": "code",
   "execution_count": null,
   "metadata": {},
   "outputs": [],
   "source": [
    "results = [word for word in teststring.split() if len(word) < 3]\n",
    "results"
   ]
  },
  {
   "cell_type": "markdown",
   "metadata": {},
   "source": [
    "### 4. Suppose you have the sentence: \"The global lessons today were taught by Riley.\"\n",
    "\n",
    "### Using list comprehension, create a list of integers which specify the length of each word in this sentence, excluding the word 'The'."
   ]
  },
  {
   "cell_type": "code",
   "execution_count": 32,
   "metadata": {},
   "outputs": [
    {
     "data": {
      "text/plain": [
       "[6, 7, 5, 4, 6, 2, 5]"
      ]
     },
     "execution_count": 32,
     "metadata": {},
     "output_type": "execute_result"
    }
   ],
   "source": [
    "sentence = \"The global lessons today were taught by Riley.\"\n",
    "\n",
    "sentence = sentence.strip(\".\")\n",
    "\n",
    "listofints = [len(word) for word in sentence.split()[1:]]\n",
    "listofints"
   ]
  },
  {
   "cell_type": "code",
   "execution_count": 8,
   "metadata": {},
   "outputs": [
    {
     "name": "stdout",
     "output_type": "stream",
     "text": [
      "[6, 7, 5, 4, 6, 2, 6]\n",
      "['global', 'lessons', 'today', 'were', 'taught', 'by', 'Riley.']\n"
     ]
    }
   ],
   "source": [
    "sentence = \"The global lessons today were taught by Riley.\"\n",
    "\n",
    "\n",
    "my_words = [w for w in sentence.split() if w!= 'the' and w!= 'The'] #will exclude the 'the/The'\n",
    "word_lengths = [int(len(i)) for i in my_words]  #will get the length of each one of these words\n",
    "print(word_lengths) #will print the length of the words in the l\n",
    "print(my_words)  #prints the usable words"
   ]
  },
  {
   "cell_type": "markdown",
   "metadata": {},
   "source": [
    "### Challenge: Use the .zip() to make a set of tuples of the words with the corresponding number of letters"
   ]
  },
  {
   "cell_type": "code",
   "execution_count": 36,
   "metadata": {},
   "outputs": [
    {
     "data": {
      "text/plain": [
       "{('Riley.', 6),\n",
       " ('by', 2),\n",
       " ('global', 6),\n",
       " ('lessons', 7),\n",
       " ('taught', 6),\n",
       " ('today', 5),\n",
       " ('were', 4)}"
      ]
     },
     "execution_count": 36,
     "metadata": {},
     "output_type": "execute_result"
    }
   ],
   "source": [
    "# using zip() to map values from my_words to their lengths \n",
    "mapped = zip(my_words, word_lengths) \n",
    "mapped\n",
    "  \n",
    "# # converting values to print as set \n",
    "mapped = set(mapped) \n",
    "mapped"
   ]
  },
  {
   "cell_type": "code",
   "execution_count": null,
   "metadata": {},
   "outputs": [],
   "source": []
  }
 ],
 "metadata": {
  "kernelspec": {
   "display_name": "Python 3",
   "language": "python",
   "name": "python3"
  },
  "language_info": {
   "codemirror_mode": {
    "name": "ipython",
    "version": 3
   },
   "file_extension": ".py",
   "mimetype": "text/x-python",
   "name": "python",
   "nbconvert_exporter": "python",
   "pygments_lexer": "ipython3",
   "version": "3.6.8"
  }
 },
 "nbformat": 4,
 "nbformat_minor": 2
}
